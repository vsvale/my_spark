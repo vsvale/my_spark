{
 "cells": [
  {
   "cell_type": "code",
   "execution_count": 160,
   "metadata": {},
   "outputs": [],
   "source": [
    "from pyspark.sql import SparkSession\n",
    "from pyspark.ml import Pipeline\n",
    "from pyspark.ml.feature import VectorAssembler,StringIndexer, OneHotEncoder, PCA\n",
    "import wget\n",
    "from os.path import exists\n",
    "from pyspark.ml.classification import DecisionTreeClassifier, RandomForestClassifier\n",
    "from pyspark.ml.evaluation import MulticlassClassificationEvaluator, ClusteringEvaluator, RegressionEvaluator\n",
    "from mlxtend.plotting import plot_confusion_matrix\n",
    "from sklearn.metrics import confusion_matrix, classification_report\n",
    "import matplotlib.pyplot as plt\n",
    "from pyspark.sql.functions import col, avg, count, monotonically_increasing_id\n",
    "from pyspark.ml.regression import LinearRegression\n",
    "from pyspark.ml.tuning import ParamGridBuilder, CrossValidator\n",
    "from pyspark.ml.clustering import KMeans\n",
    "from pyspark.ml.recommendation import ALS\n",
    "from pyspark.sql.types import IntegerType\n",
    "import seaborn as sns"
   ]
  },
  {
   "cell_type": "code",
   "execution_count": 5,
   "metadata": {},
   "outputs": [
    {
     "name": "stderr",
     "output_type": "stream",
     "text": [
      "your 131072x1 screen size is bogus. expect trouble\n"
     ]
    },
    {
     "name": "stdout",
     "output_type": "stream",
     "text": [
      "23/02/09 09:18:33 WARN Utils: Your hostname, DESKTOP-3FES71F resolves to a loopback address: 127.0.1.1; using 172.27.228.183 instead (on interface eth0)\n",
      "23/02/09 09:18:33 WARN Utils: Set SPARK_LOCAL_IP if you need to bind to another address\n"
     ]
    },
    {
     "name": "stderr",
     "output_type": "stream",
     "text": [
      "Setting default log level to \"WARN\".\n",
      "To adjust logging level use sc.setLogLevel(newLevel). For SparkR, use setLogLevel(newLevel).\n"
     ]
    },
    {
     "name": "stdout",
     "output_type": "stream",
     "text": [
      "23/02/09 09:18:34 WARN NativeCodeLoader: Unable to load native-hadoop library for your platform... using builtin-java classes where applicable\n"
     ]
    }
   ],
   "source": [
    "spark = (SparkSession\n",
    "        .builder\n",
    "        .config(\"spark.memory.offHeap.enabled\",\"true\")\n",
    "        .config(\"spark.memory.offHeap.size\",\"100mb\")\n",
    "        .config(\"spark.sql.execution.arrow.pyspark.enabled\", \"true\")\n",
    "        .config(\"spark.sql.files.maxPartitionBytes\",\"128Mb\")\n",
    "        .getOrCreate())"
   ]
  },
  {
   "cell_type": "code",
   "execution_count": 83,
   "metadata": {},
   "outputs": [],
   "source": [
    "def read_dataset(name,there_is_header):\n",
    "    if not exists('data/ml/' + name):\n",
    "        wget.download('https://raw.githubusercontent.com/vsvale/Building-Machine-Learning-Models-in-Spark-2/main/datasets/' + name,'data/ml')\n",
    "    return spark.read.csv('data/ml/'+ name,header=there_is_header,inferSchema=True,ignoreLeadingWhiteSpace=True)"
   ]
  },
  {
   "cell_type": "markdown",
   "metadata": {},
   "source": [
    "# Wine"
   ]
  },
  {
   "attachments": {},
   "cell_type": "markdown",
   "metadata": {},
   "source": [
    "These data are the results of a chemical analysis of wines grown in the same region in Italy but derived from three different cultivars. The analysis determined the quantities of 13 constituents found in each of the three types of wines.\n",
    "Fonte: http://archive.ics.uci.edu/ml/datasets/Wine\n",
    "Forina, M. et al, PARVUS - An Extendible Package for Data Exploration, Classification and Correlation. Institute of Pharmaceutical and Food Analysis and Technologies, Via Brigata Salerno, 16147 Genoa, Italy."
   ]
  },
  {
   "cell_type": "code",
   "execution_count": 81,
   "metadata": {},
   "outputs": [],
   "source": [
    "wine_df = read_dataset('wine.data',False)"
   ]
  },
  {
   "cell_type": "code",
   "execution_count": 82,
   "metadata": {},
   "outputs": [],
   "source": [
    "wine_df = wine_df\\\n",
    ".withColumnRenamed('_c1','Alcohol')\\\n",
    ".withColumnRenamed('_c2','Malic_acid')\\\n",
    ".withColumnRenamed('_c3','Ash')\\\n",
    ".withColumnRenamed('_c4','Alcalinity_of_ash')\\\n",
    ".withColumnRenamed('_c5','Magnesium')\\\n",
    ".withColumnRenamed('_c6','Total_phenols')\\\n",
    ".withColumnRenamed('_c7','Flavanoids')\\\n",
    ".withColumnRenamed('_c8','Nonflavanoid_phenols')\\\n",
    ".withColumnRenamed('_c9','Proanthocyanins')\\\n",
    ".withColumnRenamed('_c10','Color_intensity')\\\n",
    ".withColumnRenamed('_c11','Hue')\\\n",
    ".withColumnRenamed('_c12','OD280_OD315')\\\n",
    ".withColumnRenamed('_c13','Proline')\\\n",
    ".withColumnRenamed('_c0','cultivars')"
   ]
  },
  {
   "cell_type": "code",
   "execution_count": 9,
   "metadata": {},
   "outputs": [
    {
     "name": "stdout",
     "output_type": "stream",
     "text": [
      "root\n",
      " |-- cultivars: integer (nullable = true)\n",
      " |-- Alcohol: double (nullable = true)\n",
      " |-- Malic_acid: double (nullable = true)\n",
      " |-- Ash: double (nullable = true)\n",
      " |-- Alcalinity_of_ash: double (nullable = true)\n",
      " |-- Magnesium: integer (nullable = true)\n",
      " |-- Total_phenols: double (nullable = true)\n",
      " |-- Flavanoids: double (nullable = true)\n",
      " |-- Nonflavanoid_phenols: double (nullable = true)\n",
      " |-- Proanthocyanins: double (nullable = true)\n",
      " |-- Color_intensity: double (nullable = true)\n",
      " |-- Hue: double (nullable = true)\n",
      " |-- OD280_OD315: double (nullable = true)\n",
      " |-- Proline: integer (nullable = true)\n",
      "\n"
     ]
    }
   ],
   "source": [
    "wine_df.printSchema()"
   ]
  },
  {
   "cell_type": "code",
   "execution_count": 10,
   "metadata": {},
   "outputs": [
    {
     "name": "stdout",
     "output_type": "stream",
     "text": [
      "+---------+-------+----------+----+-----------------+---------+-------------+----------+--------------------+---------------+---------------+----+-----------+-------+\n",
      "|cultivars|Alcohol|Malic_acid| Ash|Alcalinity_of_ash|Magnesium|Total_phenols|Flavanoids|Nonflavanoid_phenols|Proanthocyanins|Color_intensity| Hue|OD280_OD315|Proline|\n",
      "+---------+-------+----------+----+-----------------+---------+-------------+----------+--------------------+---------------+---------------+----+-----------+-------+\n",
      "|        1|  14.23|      1.71|2.43|             15.6|      127|          2.8|      3.06|                0.28|           2.29|           5.64|1.04|       3.92|   1065|\n",
      "|        1|   13.2|      1.78|2.14|             11.2|      100|         2.65|      2.76|                0.26|           1.28|           4.38|1.05|        3.4|   1050|\n",
      "|        1|  13.16|      2.36|2.67|             18.6|      101|          2.8|      3.24|                 0.3|           2.81|           5.68|1.03|       3.17|   1185|\n",
      "|        1|  14.37|      1.95| 2.5|             16.8|      113|         3.85|      3.49|                0.24|           2.18|            7.8|0.86|       3.45|   1480|\n",
      "|        1|  13.24|      2.59|2.87|             21.0|      118|          2.8|      2.69|                0.39|           1.82|           4.32|1.04|       2.93|    735|\n",
      "|        1|   14.2|      1.76|2.45|             15.2|      112|         3.27|      3.39|                0.34|           1.97|           6.75|1.05|       2.85|   1450|\n",
      "|        1|  14.39|      1.87|2.45|             14.6|       96|          2.5|      2.52|                 0.3|           1.98|           5.25|1.02|       3.58|   1290|\n",
      "|        1|  14.06|      2.15|2.61|             17.6|      121|          2.6|      2.51|                0.31|           1.25|           5.05|1.06|       3.58|   1295|\n",
      "|        1|  14.83|      1.64|2.17|             14.0|       97|          2.8|      2.98|                0.29|           1.98|            5.2|1.08|       2.85|   1045|\n",
      "|        1|  13.86|      1.35|2.27|             16.0|       98|         2.98|      3.15|                0.22|           1.85|           7.22|1.01|       3.55|   1045|\n",
      "|        1|   14.1|      2.16| 2.3|             18.0|      105|         2.95|      3.32|                0.22|           2.38|           5.75|1.25|       3.17|   1510|\n",
      "|        1|  14.12|      1.48|2.32|             16.8|       95|          2.2|      2.43|                0.26|           1.57|            5.0|1.17|       2.82|   1280|\n",
      "|        1|  13.75|      1.73|2.41|             16.0|       89|          2.6|      2.76|                0.29|           1.81|            5.6|1.15|        2.9|   1320|\n",
      "|        1|  14.75|      1.73|2.39|             11.4|       91|          3.1|      3.69|                0.43|           2.81|            5.4|1.25|       2.73|   1150|\n",
      "|        1|  14.38|      1.87|2.38|             12.0|      102|          3.3|      3.64|                0.29|           2.96|            7.5| 1.2|        3.0|   1547|\n",
      "|        1|  13.63|      1.81| 2.7|             17.2|      112|         2.85|      2.91|                 0.3|           1.46|            7.3|1.28|       2.88|   1310|\n",
      "|        1|   14.3|      1.92|2.72|             20.0|      120|          2.8|      3.14|                0.33|           1.97|            6.2|1.07|       2.65|   1280|\n",
      "|        1|  13.83|      1.57|2.62|             20.0|      115|         2.95|       3.4|                 0.4|           1.72|            6.6|1.13|       2.57|   1130|\n",
      "|        1|  14.19|      1.59|2.48|             16.5|      108|          3.3|      3.93|                0.32|           1.86|            8.7|1.23|       2.82|   1680|\n",
      "|        1|  13.64|       3.1|2.56|             15.2|      116|          2.7|      3.03|                0.17|           1.66|            5.1|0.96|       3.36|    845|\n",
      "+---------+-------+----------+----+-----------------+---------+-------------+----------+--------------------+---------------+---------------+----+-----------+-------+\n",
      "only showing top 20 rows\n",
      "\n"
     ]
    }
   ],
   "source": [
    "wine_df.show()"
   ]
  },
  {
   "cell_type": "code",
   "execution_count": 11,
   "metadata": {},
   "outputs": [],
   "source": [
    "featureIndexer = VectorAssembler(inputCols=wine_df.columns[1:],outputCol=\"features\")"
   ]
  },
  {
   "cell_type": "code",
   "execution_count": 12,
   "metadata": {},
   "outputs": [],
   "source": [
    "labelIndexer = StringIndexer(inputCol=\"cultivars\",outputCol=\"label\").fit(wine_df)"
   ]
  },
  {
   "cell_type": "code",
   "execution_count": 13,
   "metadata": {},
   "outputs": [],
   "source": [
    "(trainingData, testData) = wine_df.randomSplit([0.8, 0.2])"
   ]
  },
  {
   "cell_type": "code",
   "execution_count": 15,
   "metadata": {},
   "outputs": [],
   "source": [
    "dt = DecisionTreeClassifier(labelCol=\"label\",featuresCol=\"features\",maxBins=32,maxDepth=3,impurity='gini')"
   ]
  },
  {
   "cell_type": "code",
   "execution_count": 16,
   "metadata": {},
   "outputs": [],
   "source": [
    "pipeline = Pipeline(stages=[labelIndexer, featureIndexer, dt])"
   ]
  },
  {
   "cell_type": "code",
   "execution_count": 17,
   "metadata": {},
   "outputs": [],
   "source": [
    "model = pipeline.fit(trainingData)"
   ]
  },
  {
   "cell_type": "code",
   "execution_count": 18,
   "metadata": {},
   "outputs": [],
   "source": [
    "predictions = model.transform(testData)"
   ]
  },
  {
   "cell_type": "code",
   "execution_count": 19,
   "metadata": {},
   "outputs": [
    {
     "name": "stdout",
     "output_type": "stream",
     "text": [
      "23/02/08 15:41:04 WARN package: Truncated the string representation of a plan since it was too large. This behavior can be adjusted by setting 'spark.sql.debug.maxToStringFields'.\n",
      "+----------+-----+--------------------+\n",
      "|prediction|label|            features|\n",
      "+----------+-----+--------------------+\n",
      "|       1.0|  1.0|[13.63,1.81,2.7,1...|\n",
      "|       1.0|  1.0|[13.73,1.5,2.7,22...|\n",
      "|       1.0|  1.0|[13.74,1.67,2.25,...|\n",
      "|       1.0|  1.0|[13.83,1.65,2.6,1...|\n",
      "|       1.0|  1.0|[13.86,1.35,2.27,...|\n",
      "|       1.0|  1.0|[13.88,1.89,2.59,...|\n",
      "|       1.0|  1.0|[13.94,1.73,2.27,...|\n",
      "|       1.0|  1.0|[14.06,1.63,2.28,...|\n",
      "|       1.0|  1.0|[14.12,1.48,2.32,...|\n",
      "|       1.0|  1.0|[14.3,1.92,2.72,2...|\n",
      "|       0.0|  0.0|[11.03,1.51,2.2,2...|\n",
      "|       0.0|  0.0|[11.46,3.74,1.82,...|\n",
      "|       0.0|  0.0|[11.82,1.47,1.99,...|\n",
      "|       0.0|  0.0|[12.07,2.16,2.17,...|\n",
      "|       0.0|  0.0|[12.08,1.39,2.5,2...|\n",
      "|       0.0|  0.0|[12.16,1.61,2.31,...|\n",
      "|       0.0|  0.0|[12.22,1.29,1.94,...|\n",
      "|       2.0|  0.0|[12.33,1.1,2.28,1...|\n",
      "|       0.0|  0.0|[12.37,1.63,2.3,2...|\n",
      "|       0.0|  0.0|[12.52,2.43,2.17,...|\n",
      "+----------+-----+--------------------+\n",
      "only showing top 20 rows\n",
      "\n"
     ]
    }
   ],
   "source": [
    "predictions.select(\"prediction\",\"label\",\"features\").show()"
   ]
  },
  {
   "cell_type": "code",
   "execution_count": 21,
   "metadata": {},
   "outputs": [
    {
     "name": "stdout",
     "output_type": "stream",
     "text": [
      "f1: 0.8176059234882764\n"
     ]
    }
   ],
   "source": [
    "evaluator = MulticlassClassificationEvaluator(labelCol=\"label\", predictionCol=\"prediction\", metricName=\"f1\")\n",
    "fmeasure = evaluator.evaluate(predictions)\n",
    "print(\"f1:\",fmeasure)"
   ]
  },
  {
   "cell_type": "code",
   "execution_count": 22,
   "metadata": {},
   "outputs": [],
   "source": [
    "y_pred = predictions.select([\"prediction\"]).collect()\n",
    "y_test = predictions.select([\"label\"]).collect()"
   ]
  },
  {
   "cell_type": "code",
   "execution_count": 25,
   "metadata": {},
   "outputs": [
    {
     "name": "stdout",
     "output_type": "stream",
     "text": [
      "              precision    recall  f1-score   support\n",
      "\n",
      "         0.0       1.00      0.62      0.77        16\n",
      "         1.0       0.83      1.00      0.91        10\n",
      "         2.0       0.67      1.00      0.80         8\n",
      "\n",
      "    accuracy                           0.82        34\n",
      "   macro avg       0.83      0.88      0.83        34\n",
      "weighted avg       0.87      0.82      0.82        34\n",
      "\n"
     ]
    },
    {
     "data": {
      "image/png": "[encoded data removed]",
      "text/plain": [
       "<Figure size 640x480 with 1 Axes>"
      ]
     },
     "metadata": {},
     "output_type": "display_data"
    }
   ],
   "source": [
    "print(classification_report(y_test,y_pred))\n",
    "matrix = confusion_matrix(y_test,y_pred)\n",
    "fig,ax = plot_confusion_matrix(conf_mat=matrix)\n",
    "plt.show()"
   ]
  },
  {
   "attachments": {},
   "cell_type": "markdown",
   "metadata": {},
   "source": [
    "# Adult"
   ]
  },
  {
   "cell_type": "markdown",
   "metadata": {},
   "source": [
    "Prediction task is to determine whether a person makes over 50K a year. Fonte: https://archive.ics.uci.edu/ml/datasets/adult"
   ]
  },
  {
   "cell_type": "code",
   "execution_count": 84,
   "metadata": {},
   "outputs": [],
   "source": [
    "adult_df = read_dataset('adult.csv',False)"
   ]
  },
  {
   "cell_type": "code",
   "execution_count": 12,
   "metadata": {},
   "outputs": [],
   "source": [
    "adult_df = (\n",
    "    adult_df.select(\n",
    "        col('_c0').alias('age'),\n",
    "        col('_c1').alias('workclass'),\n",
    "        col('_c2').alias('fnlwgt'),\n",
    "        col('_c3').alias('education'),\n",
    "        col('_c4').alias('education-num'),\n",
    "        col('_c5').alias('marital-status'),\n",
    "        col('_c6').alias('occupation'),\n",
    "        col('_c7').alias('relationship'),\n",
    "        col('_c8').alias('race'),\n",
    "        col('_c9').alias('sex'),\n",
    "        col('_c10').alias('capital-gain'),\n",
    "        col('_c11').alias('capital-loss'),\n",
    "        col('_c12').alias('hours-per-week'),\n",
    "        col('_c13').alias('native-country'),\n",
    "        col('_c14').alias('label')\n",
    "    )\n",
    ")"
   ]
  },
  {
   "cell_type": "code",
   "execution_count": 13,
   "metadata": {},
   "outputs": [
    {
     "name": "stdout",
     "output_type": "stream",
     "text": [
      "root\n",
      " |-- age: integer (nullable = true)\n",
      " |-- workclass: string (nullable = true)\n",
      " |-- fnlwgt: integer (nullable = true)\n",
      " |-- education: string (nullable = true)\n",
      " |-- education-num: integer (nullable = true)\n",
      " |-- marital-status: string (nullable = true)\n",
      " |-- occupation: string (nullable = true)\n",
      " |-- relationship: string (nullable = true)\n",
      " |-- race: string (nullable = true)\n",
      " |-- sex: string (nullable = true)\n",
      " |-- capital-gain: integer (nullable = true)\n",
      " |-- capital-loss: integer (nullable = true)\n",
      " |-- hours-per-week: integer (nullable = true)\n",
      " |-- native-country: string (nullable = true)\n",
      " |-- label: string (nullable = true)\n",
      "\n"
     ]
    }
   ],
   "source": [
    "adult_df.printSchema()"
   ]
  },
  {
   "cell_type": "code",
   "execution_count": 14,
   "metadata": {},
   "outputs": [
    {
     "name": "stdout",
     "output_type": "stream",
     "text": [
      "+---+----------------+------+------------+-------------+--------------------+-----------------+-------------+------------------+------+------------+------------+--------------+--------------+-----+\n",
      "|age|       workclass|fnlwgt|   education|education-num|      marital-status|       occupation| relationship|              race|   sex|capital-gain|capital-loss|hours-per-week|native-country|label|\n",
      "+---+----------------+------+------------+-------------+--------------------+-----------------+-------------+------------------+------+------------+------------+--------------+--------------+-----+\n",
      "| 39|       State-gov| 77516|   Bachelors|           13|       Never-married|     Adm-clerical|Not-in-family|             White|  Male|        2174|           0|            40| United-States|<=50K|\n",
      "| 50|Self-emp-not-inc| 83311|   Bachelors|           13|  Married-civ-spouse|  Exec-managerial|      Husband|             White|  Male|           0|           0|            13| United-States|<=50K|\n",
      "| 38|         Private|215646|     HS-grad|            9|            Divorced|Handlers-cleaners|Not-in-family|             White|  Male|           0|           0|            40| United-States|<=50K|\n",
      "| 53|         Private|234721|        11th|            7|  Married-civ-spouse|Handlers-cleaners|      Husband|             Black|  Male|           0|           0|            40| United-States|<=50K|\n",
      "| 28|         Private|338409|   Bachelors|           13|  Married-civ-spouse|   Prof-specialty|         Wife|             Black|Female|           0|           0|            40|          Cuba|<=50K|\n",
      "| 37|         Private|284582|     Masters|           14|  Married-civ-spouse|  Exec-managerial|         Wife|             White|Female|           0|           0|            40| United-States|<=50K|\n",
      "| 49|         Private|160187|         9th|            5|Married-spouse-ab...|    Other-service|Not-in-family|             Black|Female|           0|           0|            16|       Jamaica|<=50K|\n",
      "| 52|Self-emp-not-inc|209642|     HS-grad|            9|  Married-civ-spouse|  Exec-managerial|      Husband|             White|  Male|           0|           0|            45| United-States| >50K|\n",
      "| 31|         Private| 45781|     Masters|           14|       Never-married|   Prof-specialty|Not-in-family|             White|Female|       14084|           0|            50| United-States| >50K|\n",
      "| 42|         Private|159449|   Bachelors|           13|  Married-civ-spouse|  Exec-managerial|      Husband|             White|  Male|        5178|           0|            40| United-States| >50K|\n",
      "| 37|         Private|280464|Some-college|           10|  Married-civ-spouse|  Exec-managerial|      Husband|             Black|  Male|           0|           0|            80| United-States| >50K|\n",
      "| 30|       State-gov|141297|   Bachelors|           13|  Married-civ-spouse|   Prof-specialty|      Husband|Asian-Pac-Islander|  Male|           0|           0|            40|         India| >50K|\n",
      "| 23|         Private|122272|   Bachelors|           13|       Never-married|     Adm-clerical|    Own-child|             White|Female|           0|           0|            30| United-States|<=50K|\n",
      "| 32|         Private|205019|  Assoc-acdm|           12|       Never-married|            Sales|Not-in-family|             Black|  Male|           0|           0|            50| United-States|<=50K|\n",
      "| 40|         Private|121772|   Assoc-voc|           11|  Married-civ-spouse|     Craft-repair|      Husband|Asian-Pac-Islander|  Male|           0|           0|            40|             ?| >50K|\n",
      "| 34|         Private|245487|     7th-8th|            4|  Married-civ-spouse| Transport-moving|      Husband|Amer-Indian-Eskimo|  Male|           0|           0|            45|        Mexico|<=50K|\n",
      "| 25|Self-emp-not-inc|176756|     HS-grad|            9|       Never-married|  Farming-fishing|    Own-child|             White|  Male|           0|           0|            35| United-States|<=50K|\n",
      "| 32|         Private|186824|     HS-grad|            9|       Never-married|Machine-op-inspct|    Unmarried|             White|  Male|           0|           0|            40| United-States|<=50K|\n",
      "| 38|         Private| 28887|        11th|            7|  Married-civ-spouse|            Sales|      Husband|             White|  Male|           0|           0|            50| United-States|<=50K|\n",
      "| 43|Self-emp-not-inc|292175|     Masters|           14|            Divorced|  Exec-managerial|    Unmarried|             White|Female|           0|           0|            45| United-States| >50K|\n",
      "+---+----------------+------+------------+-------------+--------------------+-----------------+-------------+------------------+------+------------+------------+--------------+--------------+-----+\n",
      "only showing top 20 rows\n",
      "\n"
     ]
    }
   ],
   "source": [
    "adult_df.show()"
   ]
  },
  {
   "cell_type": "code",
   "execution_count": 15,
   "metadata": {},
   "outputs": [],
   "source": [
    "adult_df = adult_df.drop('fnlwgt')"
   ]
  },
  {
   "cell_type": "code",
   "execution_count": 16,
   "metadata": {},
   "outputs": [
    {
     "data": {
      "text/plain": [
       "32561"
      ]
     },
     "execution_count": 16,
     "metadata": {},
     "output_type": "execute_result"
    }
   ],
   "source": [
    "adult_df.count()"
   ]
  },
  {
   "cell_type": "code",
   "execution_count": 17,
   "metadata": {},
   "outputs": [],
   "source": [
    "adult_df = adult_df.replace('?',None)"
   ]
  },
  {
   "cell_type": "code",
   "execution_count": 18,
   "metadata": {},
   "outputs": [],
   "source": [
    "adult_df = adult_df.dropna(how='any')"
   ]
  },
  {
   "cell_type": "code",
   "execution_count": 19,
   "metadata": {},
   "outputs": [
    {
     "data": {
      "text/plain": [
       "30162"
      ]
     },
     "execution_count": 19,
     "metadata": {},
     "output_type": "execute_result"
    }
   ],
   "source": [
    "adult_df.count()"
   ]
  },
  {
   "cell_type": "code",
   "execution_count": 20,
   "metadata": {},
   "outputs": [],
   "source": [
    "(trainingData,testData) = adult_df.randomSplit([0.8,0.2])"
   ]
  },
  {
   "cell_type": "code",
   "execution_count": 21,
   "metadata": {},
   "outputs": [],
   "source": [
    "categoricalFeatures = ['workclass','education','marital-status','occupation','relationship','race','sex','native-country']"
   ]
  },
  {
   "cell_type": "code",
   "execution_count": 22,
   "metadata": {},
   "outputs": [],
   "source": [
    "indexers = [StringIndexer(inputCol=column,outputCol=column + '_idx',handleInvalid='keep') for column in categoricalFeatures]"
   ]
  },
  {
   "cell_type": "code",
   "execution_count": 23,
   "metadata": {},
   "outputs": [],
   "source": [
    "encoders = [OneHotEncoder(inputCol=column+'_idx',outputCol=column+'_enc') for column in categoricalFeatures]"
   ]
  },
  {
   "cell_type": "code",
   "execution_count": 24,
   "metadata": {},
   "outputs": [],
   "source": [
    "labelIndexer = [StringIndexer(inputCol='label',outputCol='label_idx')]"
   ]
  },
  {
   "cell_type": "code",
   "execution_count": 25,
   "metadata": {},
   "outputs": [],
   "source": [
    "requiredFeatures = [colunm + '_enc' for colunm in categoricalFeatures]"
   ]
  },
  {
   "cell_type": "code",
   "execution_count": 26,
   "metadata": {},
   "outputs": [],
   "source": [
    "featureIndexer = VectorAssembler(inputCols=requiredFeatures,outputCol=\"features\") "
   ]
  },
  {
   "cell_type": "code",
   "execution_count": 28,
   "metadata": {},
   "outputs": [],
   "source": [
    "rf = RandomForestClassifier(labelCol='label_idx', featuresCol='features', maxDepth=10)"
   ]
  },
  {
   "cell_type": "code",
   "execution_count": 29,
   "metadata": {},
   "outputs": [],
   "source": [
    "pipeline = Pipeline(stages=indexers + encoders + labelIndexer + [featureIndexer,rf])"
   ]
  },
  {
   "cell_type": "code",
   "execution_count": 30,
   "metadata": {},
   "outputs": [
    {
     "name": "stderr",
     "output_type": "stream",
     "text": [
      "                                                                                \r"
     ]
    },
    {
     "name": "stdout",
     "output_type": "stream",
     "text": [
      "23/02/09 09:27:49 WARN DAGScheduler: Broadcasting large task binary with size 1038.4 KiB\n"
     ]
    }
   ],
   "source": [
    "model = pipeline.fit(trainingData)"
   ]
  },
  {
   "cell_type": "code",
   "execution_count": 31,
   "metadata": {},
   "outputs": [],
   "source": [
    "predictions = model.transform(testData)"
   ]
  },
  {
   "cell_type": "code",
   "execution_count": 32,
   "metadata": {},
   "outputs": [
    {
     "name": "stdout",
     "output_type": "stream",
     "text": [
      "+----------+---------+--------------------+\n",
      "|prediction|label_idx|            features|\n",
      "+----------+---------+--------------------+\n",
      "|       0.0|      0.0|(98,[2,14,24,35,4...|\n",
      "|       0.0|      0.0|(98,[2,12,24,35,4...|\n",
      "|       0.0|      0.0|(98,[2,12,24,30,4...|\n",
      "|       0.0|      0.0|(98,[2,12,24,34,4...|\n",
      "|       0.0|      0.0|(98,[2,17,24,35,4...|\n",
      "|       0.0|      0.0|(98,[0,14,24,38,4...|\n",
      "|       0.0|      0.0|(98,[0,14,24,35,4...|\n",
      "|       0.0|      0.0|(98,[0,14,24,35,4...|\n",
      "|       0.0|      0.0|(98,[0,14,24,35,4...|\n",
      "|       0.0|      0.0|(98,[0,14,24,35,4...|\n",
      "|       0.0|      0.0|(98,[0,14,24,35,4...|\n",
      "|       0.0|      0.0|(98,[0,14,24,35,4...|\n",
      "|       0.0|      0.0|(98,[0,14,24,35,4...|\n",
      "|       0.0|      0.0|(98,[0,14,24,35,4...|\n",
      "|       0.0|      0.0|(98,[0,14,24,35,4...|\n",
      "|       0.0|      0.0|(98,[0,14,24,35,4...|\n",
      "|       0.0|      0.0|(98,[0,14,24,34,4...|\n",
      "|       0.0|      0.0|(98,[0,14,24,34,4...|\n",
      "|       0.0|      0.0|(98,[0,14,24,34,4...|\n",
      "|       0.0|      0.0|(98,[0,14,24,34,4...|\n",
      "+----------+---------+--------------------+\n",
      "only showing top 20 rows\n",
      "\n"
     ]
    }
   ],
   "source": [
    "predictions.select(\"prediction\",\"label_idx\",\"features\").show()"
   ]
  },
  {
   "cell_type": "code",
   "execution_count": 33,
   "metadata": {},
   "outputs": [
    {
     "name": "stdout",
     "output_type": "stream",
     "text": [
      "f1: 0.8135320353114215\n"
     ]
    }
   ],
   "source": [
    "evaluator = MulticlassClassificationEvaluator(labelCol=\"label_idx\", predictionCol=\"prediction\", metricName=\"f1\")\n",
    "fmeasure = evaluator.evaluate(predictions)\n",
    "print(\"f1:\",fmeasure)"
   ]
  },
  {
   "cell_type": "code",
   "execution_count": 34,
   "metadata": {},
   "outputs": [
    {
     "name": "stdout",
     "output_type": "stream",
     "text": [
      "accuracy: 0.8254931714719271\n"
     ]
    }
   ],
   "source": [
    "evaluator = MulticlassClassificationEvaluator(labelCol=\"label_idx\", predictionCol=\"prediction\", metricName=\"accuracy\")\n",
    "fmeasure = evaluator.evaluate(predictions)\n",
    "print(\"accuracy:\",fmeasure)"
   ]
  },
  {
   "cell_type": "code",
   "execution_count": 35,
   "metadata": {},
   "outputs": [],
   "source": [
    "y_pred = predictions.select([\"prediction\"]).collect()\n",
    "y_test = predictions.select([\"label_idx\"]).collect()"
   ]
  },
  {
   "cell_type": "code",
   "execution_count": 36,
   "metadata": {},
   "outputs": [
    {
     "name": "stdout",
     "output_type": "stream",
     "text": [
      "              precision    recall  f1-score   support\n",
      "\n",
      "         0.0       0.85      0.94      0.89      4472\n",
      "         1.0       0.71      0.49      0.58      1459\n",
      "\n",
      "    accuracy                           0.83      5931\n",
      "   macro avg       0.78      0.71      0.73      5931\n",
      "weighted avg       0.81      0.83      0.81      5931\n",
      "\n"
     ]
    },
    {
     "data": {
      "image/png": "[encoded data removed]",
      "text/plain": [
       "<Figure size 640x480 with 1 Axes>"
      ]
     },
     "metadata": {},
     "output_type": "display_data"
    }
   ],
   "source": [
    "print(classification_report(y_test,y_pred))\n",
    "matrix = confusion_matrix(y_test,y_pred)\n",
    "fig,ax = plot_confusion_matrix(conf_mat=matrix)\n",
    "plt.show()"
   ]
  },
  {
   "attachments": {},
   "cell_type": "markdown",
   "metadata": {},
   "source": [
    "# Automobile"
   ]
  },
  {
   "attachments": {},
   "cell_type": "markdown",
   "metadata": {},
   "source": [
    "Predicting the price of an automobile given a set of features"
   ]
  },
  {
   "cell_type": "code",
   "execution_count": 85,
   "metadata": {},
   "outputs": [],
   "source": [
    "auto_df = read_dataset('imports-85.data',True)"
   ]
  },
  {
   "cell_type": "code",
   "execution_count": 86,
   "metadata": {},
   "outputs": [
    {
     "name": "stdout",
     "output_type": "stream",
     "text": [
      "+---------+-----------------+-----------+---------+----------+------------+-----------+------------+---------------+----------+------+-----+------+-----------+-----------+----------------+-----------+-----------+----+------+-----------------+----------+--------+--------+-----------+-----+\n",
      "|symboling|normalized-losses|       make|fuel-type|aspiration|num-of-doors| body-style|drive-wheels|engine-location|wheel-base|length|width|height|curb-weight|engine-type|num-of-cylinders|engine-size|fuel-system|bore|stroke|compression-ratio|horsepower|peak-rpm|city-mpg|highway-mpg|price|\n",
      "+---------+-----------------+-----------+---------+----------+------------+-----------+------------+---------------+----------+------+-----+------+-----------+-----------+----------------+-----------+-----------+----+------+-----------------+----------+--------+--------+-----------+-----+\n",
      "|        3|                ?|alfa-romero|      gas|       std|         two|convertible|         rwd|          front|      88.6| 168.8| 64.1|  48.8|       2548|       dohc|            four|        130|       mpfi|3.47|  2.68|              9.0|       111|    5000|      21|         27|13495|\n",
      "|        3|                ?|alfa-romero|      gas|       std|         two|convertible|         rwd|          front|      88.6| 168.8| 64.1|  48.8|       2548|       dohc|            four|        130|       mpfi|3.47|  2.68|              9.0|       111|    5000|      21|         27|16500|\n",
      "|        1|                ?|alfa-romero|      gas|       std|         two|  hatchback|         rwd|          front|      94.5| 171.2| 65.5|  52.4|       2823|       ohcv|             six|        152|       mpfi|2.68|  3.47|              9.0|       154|    5000|      19|         26|16500|\n",
      "|        2|              164|       audi|      gas|       std|        four|      sedan|         fwd|          front|      99.8| 176.6| 66.2|  54.3|       2337|        ohc|            four|        109|       mpfi|3.19|   3.4|             10.0|       102|    5500|      24|         30|13950|\n",
      "|        2|              164|       audi|      gas|       std|        four|      sedan|         4wd|          front|      99.4| 176.6| 66.4|  54.3|       2824|        ohc|            five|        136|       mpfi|3.19|   3.4|              8.0|       115|    5500|      18|         22|17450|\n",
      "|        2|                ?|       audi|      gas|       std|         two|      sedan|         fwd|          front|      99.8| 177.3| 66.3|  53.1|       2507|        ohc|            five|        136|       mpfi|3.19|   3.4|              8.5|       110|    5500|      19|         25|15250|\n",
      "|        1|              158|       audi|      gas|       std|        four|      sedan|         fwd|          front|     105.8| 192.7| 71.4|  55.7|       2844|        ohc|            five|        136|       mpfi|3.19|   3.4|              8.5|       110|    5500|      19|         25|17710|\n",
      "|        1|                ?|       audi|      gas|       std|        four|      wagon|         fwd|          front|     105.8| 192.7| 71.4|  55.7|       2954|        ohc|            five|        136|       mpfi|3.19|   3.4|              8.5|       110|    5500|      19|         25|18920|\n",
      "|        1|              158|       audi|      gas|     turbo|        four|      sedan|         fwd|          front|     105.8| 192.7| 71.4|  55.9|       3086|        ohc|            five|        131|       mpfi|3.13|   3.4|              8.3|       140|    5500|      17|         20|23875|\n",
      "|        0|                ?|       audi|      gas|     turbo|         two|  hatchback|         4wd|          front|      99.5| 178.2| 67.9|  52.0|       3053|        ohc|            five|        131|       mpfi|3.13|   3.4|              7.0|       160|    5500|      16|         22|    ?|\n",
      "|        2|              192|        bmw|      gas|       std|         two|      sedan|         rwd|          front|     101.2| 176.8| 64.8|  54.3|       2395|        ohc|            four|        108|       mpfi| 3.5|   2.8|              8.8|       101|    5800|      23|         29|16430|\n",
      "|        0|              192|        bmw|      gas|       std|        four|      sedan|         rwd|          front|     101.2| 176.8| 64.8|  54.3|       2395|        ohc|            four|        108|       mpfi| 3.5|   2.8|              8.8|       101|    5800|      23|         29|16925|\n",
      "|        0|              188|        bmw|      gas|       std|         two|      sedan|         rwd|          front|     101.2| 176.8| 64.8|  54.3|       2710|        ohc|             six|        164|       mpfi|3.31|  3.19|              9.0|       121|    4250|      21|         28|20970|\n",
      "|        0|              188|        bmw|      gas|       std|        four|      sedan|         rwd|          front|     101.2| 176.8| 64.8|  54.3|       2765|        ohc|             six|        164|       mpfi|3.31|  3.19|              9.0|       121|    4250|      21|         28|21105|\n",
      "|        1|                ?|        bmw|      gas|       std|        four|      sedan|         rwd|          front|     103.5| 189.0| 66.9|  55.7|       3055|        ohc|             six|        164|       mpfi|3.31|  3.19|              9.0|       121|    4250|      20|         25|24565|\n",
      "|        0|                ?|        bmw|      gas|       std|        four|      sedan|         rwd|          front|     103.5| 189.0| 66.9|  55.7|       3230|        ohc|             six|        209|       mpfi|3.62|  3.39|              8.0|       182|    5400|      16|         22|30760|\n",
      "|        0|                ?|        bmw|      gas|       std|         two|      sedan|         rwd|          front|     103.5| 193.8| 67.9|  53.7|       3380|        ohc|             six|        209|       mpfi|3.62|  3.39|              8.0|       182|    5400|      16|         22|41315|\n",
      "|        0|                ?|        bmw|      gas|       std|        four|      sedan|         rwd|          front|     110.0| 197.0| 70.9|  56.3|       3505|        ohc|             six|        209|       mpfi|3.62|  3.39|              8.0|       182|    5400|      15|         20|36880|\n",
      "|        2|              121|  chevrolet|      gas|       std|         two|  hatchback|         fwd|          front|      88.4| 141.1| 60.3|  53.2|       1488|          l|           three|         61|       2bbl|2.91|  3.03|              9.5|        48|    5100|      47|         53| 5151|\n",
      "|        1|               98|  chevrolet|      gas|       std|         two|  hatchback|         fwd|          front|      94.5| 155.9| 63.6|  52.0|       1874|        ohc|            four|         90|       2bbl|3.03|  3.11|              9.6|        70|    5400|      38|         43| 6295|\n",
      "+---------+-----------------+-----------+---------+----------+------------+-----------+------------+---------------+----------+------+-----+------+-----------+-----------+----------------+-----------+-----------+----+------+-----------------+----------+--------+--------+-----------+-----+\n",
      "only showing top 20 rows\n",
      "\n"
     ]
    }
   ],
   "source": [
    "auto_df.show()"
   ]
  },
  {
   "cell_type": "code",
   "execution_count": 40,
   "metadata": {},
   "outputs": [
    {
     "name": "stdout",
     "output_type": "stream",
     "text": [
      "root\n",
      " |-- symboling: integer (nullable = true)\n",
      " |-- normalized-losses: string (nullable = true)\n",
      " |-- make: string (nullable = true)\n",
      " |-- fuel-type: string (nullable = true)\n",
      " |-- aspiration: string (nullable = true)\n",
      " |-- num-of-doors: string (nullable = true)\n",
      " |-- body-style: string (nullable = true)\n",
      " |-- drive-wheels: string (nullable = true)\n",
      " |-- engine-location: string (nullable = true)\n",
      " |-- wheel-base: double (nullable = true)\n",
      " |-- length: double (nullable = true)\n",
      " |-- width: double (nullable = true)\n",
      " |-- height: double (nullable = true)\n",
      " |-- curb-weight: integer (nullable = true)\n",
      " |-- engine-type: string (nullable = true)\n",
      " |-- num-of-cylinders: string (nullable = true)\n",
      " |-- engine-size: integer (nullable = true)\n",
      " |-- fuel-system: string (nullable = true)\n",
      " |-- bore: string (nullable = true)\n",
      " |-- stroke: string (nullable = true)\n",
      " |-- compression-ratio: double (nullable = true)\n",
      " |-- horsepower: string (nullable = true)\n",
      " |-- peak-rpm: string (nullable = true)\n",
      " |-- city-mpg: integer (nullable = true)\n",
      " |-- highway-mpg: integer (nullable = true)\n",
      " |-- price: string (nullable = true)\n",
      "\n"
     ]
    }
   ],
   "source": [
    "auto_df.printSchema()"
   ]
  },
  {
   "cell_type": "code",
   "execution_count": 41,
   "metadata": {},
   "outputs": [],
   "source": [
    "auto_df = auto_df.replace('?',None)"
   ]
  },
  {
   "cell_type": "code",
   "execution_count": 42,
   "metadata": {},
   "outputs": [],
   "source": [
    "auto_df = auto_df.dropna(how='any')"
   ]
  },
  {
   "cell_type": "code",
   "execution_count": 43,
   "metadata": {},
   "outputs": [],
   "source": [
    "auto_df = auto_df.select(\n",
    "    col('price').cast('float'),\n",
    "    col('make'),\n",
    "    col('num-of-doors'),\n",
    "    col('body-style'),\n",
    "    col('drive-wheels'),\n",
    "    col('wheel-base').cast('float'),\n",
    "    col('curb-weight').cast('float'),\n",
    "    col('num-of-cylinders'),\n",
    "    col('engine-size').cast('float'),\n",
    "    col('horsepower').cast('float'),\n",
    "    col('peak-rpm').cast('float'),\n",
    ")"
   ]
  },
  {
   "cell_type": "code",
   "execution_count": 44,
   "metadata": {},
   "outputs": [],
   "source": [
    "(trainingData,testData) = auto_df.randomSplit([0.8,0.2])"
   ]
  },
  {
   "cell_type": "code",
   "execution_count": 45,
   "metadata": {},
   "outputs": [],
   "source": [
    "categoricalFeatures = ['make','num-of-doors','body-style','drive-wheels','num-of-cylinders']"
   ]
  },
  {
   "cell_type": "code",
   "execution_count": 46,
   "metadata": {},
   "outputs": [],
   "source": [
    "indexers = [StringIndexer(inputCol=column,outputCol=column + '_idx',handleInvalid='keep') for column in categoricalFeatures]"
   ]
  },
  {
   "cell_type": "code",
   "execution_count": 47,
   "metadata": {},
   "outputs": [],
   "source": [
    "encoders = [OneHotEncoder(inputCol=column+'_idx',outputCol=column+'_enc') for column in categoricalFeatures]"
   ]
  },
  {
   "cell_type": "code",
   "execution_count": 48,
   "metadata": {},
   "outputs": [],
   "source": [
    "requiredFeatures = [colunm + '_enc' for colunm in categoricalFeatures] + ['wheel-base','curb-weight','engine-size','horsepower','peak-rpm']"
   ]
  },
  {
   "cell_type": "code",
   "execution_count": 49,
   "metadata": {},
   "outputs": [],
   "source": [
    "featureassembler = VectorAssembler(inputCols=requiredFeatures,outputCol=\"features\") "
   ]
  },
  {
   "cell_type": "code",
   "execution_count": 51,
   "metadata": {},
   "outputs": [],
   "source": [
    "lr = LinearRegression(maxIter=100,regParam=1.0,elasticNetParam=0.8,labelCol='price',featuresCol='features')"
   ]
  },
  {
   "cell_type": "code",
   "execution_count": 52,
   "metadata": {},
   "outputs": [],
   "source": [
    "pipeline = Pipeline(stages=indexers + encoders + [featureassembler,lr])"
   ]
  },
  {
   "cell_type": "code",
   "execution_count": 53,
   "metadata": {},
   "outputs": [
    {
     "name": "stdout",
     "output_type": "stream",
     "text": [
      "23/02/09 09:33:06 WARN InstanceBuilder$NativeBLAS: Failed to load implementation from:dev.ludovic.netlib.blas.JNIBLAS\n",
      "23/02/09 09:33:06 WARN InstanceBuilder$NativeBLAS: Failed to load implementation from:dev.ludovic.netlib.blas.ForeignLinkerBLAS\n"
     ]
    }
   ],
   "source": [
    "model = pipeline.fit(trainingData)"
   ]
  },
  {
   "cell_type": "code",
   "execution_count": 54,
   "metadata": {},
   "outputs": [],
   "source": [
    "lrModel = model.stages[-1]"
   ]
  },
  {
   "cell_type": "code",
   "execution_count": 55,
   "metadata": {},
   "outputs": [
    {
     "name": "stdout",
     "output_type": "stream",
     "text": [
      "R²: 0.9634354539502223\n",
      "RMSE: 1141.5595888239434\n"
     ]
    }
   ],
   "source": [
    "print('R²:',lrModel.summary.r2)\n",
    "print('RMSE:',lrModel.summary.rootMeanSquaredError)"
   ]
  },
  {
   "cell_type": "code",
   "execution_count": 56,
   "metadata": {},
   "outputs": [
    {
     "data": {
      "text/plain": [
       "38"
      ]
     },
     "execution_count": 56,
     "metadata": {},
     "output_type": "execute_result"
    }
   ],
   "source": [
    "lrModel.numFeatures"
   ]
  },
  {
   "cell_type": "code",
   "execution_count": 57,
   "metadata": {},
   "outputs": [
    {
     "data": {
      "text/plain": [
       "DenseVector([-1855.3049, 373.9966, 729.9236, -1447.3367, -1292.3642, -238.9051, -673.6731, -473.7332, 12.3754, -2103.3262, 6882.5368, -1134.4289, 1586.3466, 3168.5042, 4821.827, -523.639, 9866.1023, 7889.0257, 177.1779, -177.1779, -0.5837, 279.8665, -1213.8614, -467.3149, 4545.1351, -790.2627, 889.5831, -661.9102, -1047.111, 106.746, 1177.9866, 6505.1767, 252.7589, 173.0033, 5.1773, -51.7458, 57.2839, -1.068])"
      ]
     },
     "execution_count": 57,
     "metadata": {},
     "output_type": "execute_result"
    }
   ],
   "source": [
    "lrModel.coefficients"
   ]
  },
  {
   "cell_type": "code",
   "execution_count": 58,
   "metadata": {},
   "outputs": [],
   "source": [
    "predictions = model.transform(testData)"
   ]
  },
  {
   "cell_type": "code",
   "execution_count": 59,
   "metadata": {},
   "outputs": [
    {
     "name": "stdout",
     "output_type": "stream",
     "text": [
      "+------------------+-------+--------------------+\n",
      "|        prediction|  price|            features|\n",
      "+------------------+-------+--------------------+\n",
      "|6192.7447313466055| 6229.0|(38,[11,18,21,25,...|\n",
      "|6327.4638950497265| 6295.0|(38,[15,19,21,25,...|\n",
      "| 7383.721256327657| 6529.0|(38,[2,19,21,25,2...|\n",
      "| 7072.383127582454| 6695.0|(38,[5,18,20,25,2...|\n",
      "| 6575.855855503263| 6938.0|(38,[0,18,20,25,2...|\n",
      "| 7402.426877917138| 7463.0|(38,[4,18,22,25,2...|\n",
      "| 6658.042223858671| 7609.0|(38,[11,18,20,25,...|\n",
      "| 6758.184369123666| 7788.0|(38,[0,18,21,25,2...|\n",
      "|  9255.62957331833| 7895.0|(38,[2,19,21,25,2...|\n",
      "| 6477.734250263131| 7898.0|(38,[0,18,20,25,2...|\n",
      "| 7068.575117916915| 8358.0|(38,[0,18,21,25,2...|\n",
      "|10189.891372066328| 9549.0|(38,[1,18,20,25,2...|\n",
      "| 11233.49399099856| 9989.0|(38,[0,19,21,26,2...|\n",
      "| 10350.08124710019|11245.0|(38,[5,18,21,25,2...|\n",
      "|11544.295465390327|11259.0|(38,[4,18,20,27,2...|\n",
      "| 14139.70326580374|11850.0|(38,[12,19,21,25,...|\n",
      "|15815.868448743504|13499.0|(38,[1,18,20,25,2...|\n",
      "| 15997.07381519129|13499.0|(38,[1,18,20,25,2...|\n",
      "| 15027.92002655467|16515.0|(38,[8,18,22,26,2...|\n",
      "|  15459.2050554652|16630.0|(38,[9,18,20,26,2...|\n",
      "+------------------+-------+--------------------+\n",
      "only showing top 20 rows\n",
      "\n"
     ]
    }
   ],
   "source": [
    "predictions.select(\"prediction\",\"price\",\"features\").show()"
   ]
  },
  {
   "cell_type": "code",
   "execution_count": 61,
   "metadata": {},
   "outputs": [
    {
     "name": "stdout",
     "output_type": "stream",
     "text": [
      "Test R² score: 0.9156474550234693\n"
     ]
    }
   ],
   "source": [
    "evaluator = RegressionEvaluator(labelCol='price',predictionCol='prediction',metricName='r2')\n",
    "r2 = evaluator.evaluate(predictions)\n",
    "print('Test R² score:', r2)"
   ]
  },
  {
   "cell_type": "code",
   "execution_count": 62,
   "metadata": {},
   "outputs": [
    {
     "name": "stdout",
     "output_type": "stream",
     "text": [
      "Test rmse score: 1514.3197710850986\n"
     ]
    }
   ],
   "source": [
    "evaluator = RegressionEvaluator(labelCol='price',predictionCol='prediction',metricName='rmse')\n",
    "rmse = evaluator.evaluate(predictions)\n",
    "print('Test rmse score:', rmse)"
   ]
  },
  {
   "cell_type": "code",
   "execution_count": 63,
   "metadata": {},
   "outputs": [
    {
     "name": "stderr",
     "output_type": "stream",
     "text": [
      "/home/dataeng/.local/lib/python3.10/site-packages/pyspark/sql/pandas/conversion.py:114: UserWarning: toPandas attempted Arrow optimization because 'spark.sql.execution.arrow.pyspark.enabled' is set to true; however, failed by the reason below:\n",
      "  PyArrow >= 1.0.0 must be installed; however, it was not found.\n",
      "Attempting non-optimization as 'spark.sql.execution.arrow.pyspark.fallback.enabled' is set to true.\n",
      "  warn(msg)\n"
     ]
    }
   ],
   "source": [
    "predict_df = predictions.select(\"prediction\",\"price\").toPandas()"
   ]
  },
  {
   "cell_type": "code",
   "execution_count": 64,
   "metadata": {},
   "outputs": [
    {
     "data": {
      "image/png": "[encoded data removed]",
      "text/plain": [
       "<Figure size 1500x600 with 1 Axes>"
      ]
     },
     "metadata": {},
     "output_type": "display_data"
    }
   ],
   "source": [
    "plt.figure(figsize=(15,6))\n",
    "plt.plot(predict_df['price'],label='Actual')\n",
    "plt.plot(predict_df['prediction'],label='Predicted')\n",
    "plt.ylabel('Price')\n",
    "plt.legend()\n",
    "plt.show()"
   ]
  },
  {
   "cell_type": "code",
   "execution_count": 66,
   "metadata": {},
   "outputs": [],
   "source": [
    "paramGrid = ParamGridBuilder().addGrid(\n",
    "    lr.maxIter,[10,50,100]).addGrid(\n",
    "    lr.regParam,[0.1,0.3,1.0]).addGrid(\n",
    "    lr.elasticNetParam,[0.0,0.8,1.0]).build()"
   ]
  },
  {
   "cell_type": "code",
   "execution_count": 67,
   "metadata": {},
   "outputs": [],
   "source": [
    "evaluator = RegressionEvaluator(labelCol='price',predictionCol='prediction',metricName='rmse')"
   ]
  },
  {
   "cell_type": "code",
   "execution_count": 69,
   "metadata": {},
   "outputs": [],
   "source": [
    "crossval = CrossValidator(estimator=pipeline,estimatorParamMaps=paramGrid,evaluator=evaluator,numFolds=3)"
   ]
  },
  {
   "cell_type": "code",
   "execution_count": 70,
   "metadata": {},
   "outputs": [
    {
     "name": "stdout",
     "output_type": "stream",
     "text": [
      "23/02/09 09:35:14 WARN InstanceBuilder$NativeLAPACK: Failed to load implementation from:dev.ludovic.netlib.lapack.JNILAPACK\n"
     ]
    }
   ],
   "source": [
    "model = crossval.fit(trainingData)"
   ]
  },
  {
   "cell_type": "code",
   "execution_count": 71,
   "metadata": {},
   "outputs": [],
   "source": [
    "blrmodel = model.bestModel.stages[-1]"
   ]
  },
  {
   "cell_type": "code",
   "execution_count": 72,
   "metadata": {},
   "outputs": [
    {
     "name": "stdout",
     "output_type": "stream",
     "text": [
      "MaxIter 100\n",
      "elasticNetParam 0.8\n",
      "regParam 1.0\n"
     ]
    }
   ],
   "source": [
    "print('MaxIter', lrModel._java_obj.getMaxIter())\n",
    "print('elasticNetParam',lrModel._java_obj.getElasticNetParam())\n",
    "print('regParam',lrModel._java_obj.getRegParam())"
   ]
  },
  {
   "cell_type": "code",
   "execution_count": 73,
   "metadata": {},
   "outputs": [],
   "source": [
    "predictions = model.transform(testData)"
   ]
  },
  {
   "cell_type": "code",
   "execution_count": 74,
   "metadata": {},
   "outputs": [
    {
     "name": "stdout",
     "output_type": "stream",
     "text": [
      "Test R² score: 0.8851161161731578\n"
     ]
    }
   ],
   "source": [
    "evaluator = RegressionEvaluator(labelCol='price',predictionCol='prediction',metricName='r2')\n",
    "r2 = evaluator.evaluate(predictions)\n",
    "print('Test R² score:', r2)"
   ]
  },
  {
   "cell_type": "code",
   "execution_count": 75,
   "metadata": {},
   "outputs": [
    {
     "name": "stdout",
     "output_type": "stream",
     "text": [
      "Test rmse score: 1767.2502513137224\n"
     ]
    }
   ],
   "source": [
    "evaluator = RegressionEvaluator(labelCol='price',predictionCol='prediction',metricName='rmse')\n",
    "rmse = evaluator.evaluate(predictions)\n",
    "print('Test rmse score:', rmse)"
   ]
  },
  {
   "attachments": {},
   "cell_type": "markdown",
   "metadata": {},
   "source": [
    "# Titanic"
   ]
  },
  {
   "cell_type": "code",
   "execution_count": 87,
   "metadata": {},
   "outputs": [],
   "source": [
    "titanic_df = read_dataset('titanic.csv',True)"
   ]
  },
  {
   "cell_type": "code",
   "execution_count": 88,
   "metadata": {},
   "outputs": [
    {
     "name": "stdout",
     "output_type": "stream",
     "text": [
      "root\n",
      " |-- PassengerId: integer (nullable = true)\n",
      " |-- Survived: integer (nullable = true)\n",
      " |-- Pclass: integer (nullable = true)\n",
      " |-- Name: string (nullable = true)\n",
      " |-- Sex: string (nullable = true)\n",
      " |-- Age: double (nullable = true)\n",
      " |-- SibSp: integer (nullable = true)\n",
      " |-- Parch: integer (nullable = true)\n",
      " |-- Ticket: string (nullable = true)\n",
      " |-- Fare: double (nullable = true)\n",
      " |-- Cabin: string (nullable = true)\n",
      " |-- Embarked: string (nullable = true)\n",
      "\n"
     ]
    }
   ],
   "source": [
    "titanic_df.printSchema()"
   ]
  },
  {
   "cell_type": "code",
   "execution_count": 89,
   "metadata": {},
   "outputs": [],
   "source": [
    "titanic_df = titanic_df.drop('PassengerId','Name','SibSp','Ticket','Cabin')"
   ]
  },
  {
   "cell_type": "code",
   "execution_count": 90,
   "metadata": {},
   "outputs": [],
   "source": [
    "titanic_df = titanic_df.replace('?',None).dropna(how='any')"
   ]
  },
  {
   "cell_type": "code",
   "execution_count": 91,
   "metadata": {},
   "outputs": [],
   "source": [
    "titanic_df = StringIndexer(inputCol='Sex',outputCol='Gender',handleInvalid='keep').fit(titanic_df).transform(titanic_df)"
   ]
  },
  {
   "cell_type": "code",
   "execution_count": 92,
   "metadata": {},
   "outputs": [],
   "source": [
    "titanic_df = StringIndexer(inputCol='Embarked',outputCol='Boarded',handleInvalid='keep').fit(titanic_df).transform(titanic_df)"
   ]
  },
  {
   "cell_type": "code",
   "execution_count": 93,
   "metadata": {},
   "outputs": [],
   "source": [
    "titanic_df = titanic_df.drop('Sex','Embarked')"
   ]
  },
  {
   "cell_type": "code",
   "execution_count": 94,
   "metadata": {},
   "outputs": [],
   "source": [
    "assembler = VectorAssembler(inputCols=titanic_df.columns,outputCol='features')"
   ]
  },
  {
   "cell_type": "code",
   "execution_count": 95,
   "metadata": {},
   "outputs": [],
   "source": [
    "titanic_ready = assembler.transform(titanic_df)"
   ]
  },
  {
   "cell_type": "code",
   "execution_count": 99,
   "metadata": {},
   "outputs": [],
   "source": [
    "kmeans = KMeans(k=8, seed=3)\n",
    "model = kmeans.fit(titanic_ready)"
   ]
  },
  {
   "cell_type": "code",
   "execution_count": 100,
   "metadata": {},
   "outputs": [],
   "source": [
    "clusterdata = model.transform(titanic_ready)"
   ]
  },
  {
   "cell_type": "code",
   "execution_count": 101,
   "metadata": {},
   "outputs": [
    {
     "name": "stdout",
     "output_type": "stream",
     "text": [
      "0.6315918449619775\n"
     ]
    }
   ],
   "source": [
    "evaluator = ClusteringEvaluator()\n",
    "silhouette = evaluator.evaluate(clusterdata)\n",
    "print(silhouette)"
   ]
  },
  {
   "cell_type": "code",
   "execution_count": 102,
   "metadata": {},
   "outputs": [
    {
     "data": {
      "text/plain": [
       "[array([ 0.23913043,  2.17391304, 51.47282609,  0.11956522, 16.22165   ,\n",
       "         0.20652174,  0.20652174]),\n",
       " array([ 0.26470588,  2.76143791, 25.29411765,  0.10457516,  9.62966928,\n",
       "         0.27124183,  0.21895425]),\n",
       " array([1.00000000e+00, 1.00000000e+00, 3.53333333e+01, 3.33333333e-01,\n",
       "        5.12329200e+02, 3.33333333e-01, 1.00000000e+00]),\n",
       " array([  0.73333333,   1.        ,  30.33333333,   1.33333333,\n",
       "        239.99194   ,   0.73333333,   0.53333333]),\n",
       " array([  0.73333333,   1.        ,  32.43066667,   0.86666667,\n",
       "        131.18388333,   0.63333333,   0.5       ]),\n",
       " array([ 0.68888889,  1.16666667, 36.03333333,  0.32222222, 69.30111333,\n",
       "         0.48888889,  0.38888889]),\n",
       " array([ 0.54320988,  2.62962963,  7.17592593,  1.30864198, 27.04722099,\n",
       "         0.49382716,  0.2345679 ]),\n",
       " array([ 0.45263158,  1.93684211, 34.43684211,  0.87368421, 28.13162211,\n",
       "         0.44210526,  0.21052632])]"
      ]
     },
     "execution_count": 102,
     "metadata": {},
     "output_type": "execute_result"
    }
   ],
   "source": [
    "centers = model.clusterCenters()\n",
    "centers"
   ]
  },
  {
   "cell_type": "code",
   "execution_count": 103,
   "metadata": {},
   "outputs": [
    {
     "name": "stdout",
     "output_type": "stream",
     "text": [
      "+--------+------+----+-----+-------+------+-------+--------------------+----------+\n",
      "|Survived|Pclass| Age|Parch|   Fare|Gender|Boarded|            features|prediction|\n",
      "+--------+------+----+-----+-------+------+-------+--------------------+----------+\n",
      "|       0|     3|22.0|    0|   7.25|   0.0|    0.0|(7,[1,2,4],[3.0,2...|         1|\n",
      "|       1|     1|38.0|    0|71.2833|   1.0|    1.0|[1.0,1.0,38.0,0.0...|         5|\n",
      "|       1|     3|26.0|    0|  7.925|   1.0|    0.0|[1.0,3.0,26.0,0.0...|         1|\n",
      "|       1|     1|35.0|    0|   53.1|   1.0|    0.0|[1.0,1.0,35.0,0.0...|         5|\n",
      "|       0|     3|35.0|    0|   8.05|   0.0|    0.0|(7,[1,2,4],[3.0,3...|         1|\n",
      "|       0|     1|54.0|    0|51.8625|   0.0|    0.0|(7,[1,2,4],[1.0,5...|         5|\n",
      "|       0|     3| 2.0|    1| 21.075|   0.0|    0.0|[0.0,3.0,2.0,1.0,...|         6|\n",
      "|       1|     3|27.0|    2|11.1333|   1.0|    0.0|[1.0,3.0,27.0,2.0...|         1|\n",
      "|       1|     2|14.0|    0|30.0708|   1.0|    1.0|[1.0,2.0,14.0,0.0...|         6|\n",
      "|       1|     3| 4.0|    1|   16.7|   1.0|    0.0|[1.0,3.0,4.0,1.0,...|         6|\n",
      "|       1|     1|58.0|    0|  26.55|   1.0|    0.0|[1.0,1.0,58.0,0.0...|         0|\n",
      "|       0|     3|20.0|    0|   8.05|   0.0|    0.0|(7,[1,2,4],[3.0,2...|         1|\n",
      "|       0|     3|39.0|    5| 31.275|   0.0|    0.0|[0.0,3.0,39.0,5.0...|         7|\n",
      "|       0|     3|14.0|    0| 7.8542|   1.0|    0.0|[0.0,3.0,14.0,0.0...|         1|\n",
      "|       1|     2|55.0|    0|   16.0|   1.0|    0.0|[1.0,2.0,55.0,0.0...|         0|\n",
      "|       0|     3| 2.0|    1| 29.125|   0.0|    2.0|[0.0,3.0,2.0,1.0,...|         6|\n",
      "|       0|     3|31.0|    0|   18.0|   1.0|    0.0|[0.0,3.0,31.0,0.0...|         1|\n",
      "|       0|     2|35.0|    0|   26.0|   0.0|    0.0|(7,[1,2,4],[2.0,3...|         7|\n",
      "|       1|     2|34.0|    0|   13.0|   0.0|    0.0|[1.0,2.0,34.0,0.0...|         1|\n",
      "|       1|     3|15.0|    0| 8.0292|   1.0|    2.0|[1.0,3.0,15.0,0.0...|         1|\n",
      "+--------+------+----+-----+-------+------+-------+--------------------+----------+\n",
      "only showing top 20 rows\n",
      "\n"
     ]
    }
   ],
   "source": [
    "clusterdata.show()"
   ]
  },
  {
   "cell_type": "code",
   "execution_count": 105,
   "metadata": {},
   "outputs": [
    {
     "name": "stdout",
     "output_type": "stream",
     "text": [
      "+------------------+-----------------+-----------------+-----------------+------------------+------------------+\n",
      "|     avg(Survived)|      avg(Pclass)|         avg(Age)|        avg(Fare)|       avg(Gender)|      avg(Boarded)|\n",
      "+------------------+-----------------+-----------------+-----------------+------------------+------------------+\n",
      "|0.4044943820224719|2.240168539325843|29.64209269662921|34.56725140449432|0.3637640449438202|0.2612359550561798|\n",
      "+------------------+-----------------+-----------------+-----------------+------------------+------------------+\n",
      "\n"
     ]
    }
   ],
   "source": [
    "titanic_df.select(\n",
    "    avg('Survived'),avg('Pclass'),avg('Age'),avg('Fare'),avg('Gender'),avg('Boarded')\n",
    ").show()"
   ]
  },
  {
   "cell_type": "code",
   "execution_count": 106,
   "metadata": {},
   "outputs": [
    {
     "name": "stdout",
     "output_type": "stream",
     "text": [
      "+----------+-------------------+------------------+------------------+------------------+-------------------+-------------------+-----------------+\n",
      "|prediction|      avg(Survived)|       avg(Pclass)|          avg(Age)|         avg(Fare)|        avg(Gender)|       avg(Boarded)|count(prediction)|\n",
      "+----------+-------------------+------------------+------------------+------------------+-------------------+-------------------+-----------------+\n",
      "|         0| 0.2391304347826087|2.1739130434782608| 51.47282608695652|          16.22165|0.20652173913043478|0.20652173913043478|               92|\n",
      "|         1| 0.2647058823529412| 2.761437908496732|25.294117647058822| 9.629669281045755|0.27124183006535946|0.21895424836601307|              306|\n",
      "|         2|                1.0|               1.0|35.333333333333336|          512.3292| 0.3333333333333333|                1.0|                3|\n",
      "|         3| 0.7333333333333333|               1.0|30.333333333333332|239.99194000000003| 0.7333333333333333| 0.5333333333333333|               15|\n",
      "|         4| 0.7333333333333333|               1.0| 32.43066666666667|131.18388333333334| 0.6333333333333333|                0.5|               30|\n",
      "|         5| 0.6888888888888889|1.1666666666666667| 36.03333333333333| 69.30111333333335| 0.4888888888888889| 0.3888888888888889|               90|\n",
      "|         6| 0.5432098765432098|2.6296296296296298| 7.175925925925927|27.047220987654335|0.49382716049382713| 0.2345679012345679|               81|\n",
      "|         7|0.45263157894736844| 1.936842105263158| 34.43684210526316| 28.13162210526316| 0.4421052631578947|0.21052631578947367|               95|\n",
      "+----------+-------------------+------------------+------------------+------------------+-------------------+-------------------+-----------------+\n",
      "\n"
     ]
    }
   ],
   "source": [
    "clusterdata.groupBy('prediction').agg(avg('Survived'),avg('Pclass'),avg('Age'),avg('Fare'),avg('Gender'),avg('Boarded'),count('prediction')).orderBy('prediction').show()"
   ]
  },
  {
   "cell_type": "code",
   "execution_count": 107,
   "metadata": {},
   "outputs": [
    {
     "name": "stdout",
     "output_type": "stream",
     "text": [
      "+--------+------+----+-----+-------+------+-------+--------------------+----------+\n",
      "|Survived|Pclass| Age|Parch|   Fare|Gender|Boarded|            features|prediction|\n",
      "+--------+------+----+-----+-------+------+-------+--------------------+----------+\n",
      "|       0|     3|22.0|    0|   7.25|   0.0|    0.0|(7,[1,2,4],[3.0,2...|         1|\n",
      "|       1|     3|26.0|    0|  7.925|   1.0|    0.0|[1.0,3.0,26.0,0.0...|         1|\n",
      "|       0|     3|35.0|    0|   8.05|   0.0|    0.0|(7,[1,2,4],[3.0,3...|         1|\n",
      "|       1|     3|27.0|    2|11.1333|   1.0|    0.0|[1.0,3.0,27.0,2.0...|         1|\n",
      "|       0|     3|20.0|    0|   8.05|   0.0|    0.0|(7,[1,2,4],[3.0,2...|         1|\n",
      "|       0|     3|14.0|    0| 7.8542|   1.0|    0.0|[0.0,3.0,14.0,0.0...|         1|\n",
      "|       0|     3|31.0|    0|   18.0|   1.0|    0.0|[0.0,3.0,31.0,0.0...|         1|\n",
      "|       1|     2|34.0|    0|   13.0|   0.0|    0.0|[1.0,2.0,34.0,0.0...|         1|\n",
      "|       1|     3|15.0|    0| 8.0292|   1.0|    2.0|[1.0,3.0,15.0,0.0...|         1|\n",
      "|       0|     3|21.0|    0|   8.05|   0.0|    0.0|(7,[1,2,4],[3.0,2...|         1|\n",
      "|       0|     3|18.0|    0|   18.0|   1.0|    0.0|[0.0,3.0,18.0,0.0...|         1|\n",
      "|       1|     3|14.0|    0|11.2417|   1.0|    1.0|[1.0,3.0,14.0,0.0...|         1|\n",
      "|       1|     3|19.0|    0| 7.8792|   1.0|    2.0|[1.0,3.0,19.0,0.0...|         1|\n",
      "|       0|     3|18.0|    0|   17.8|   1.0|    0.0|[0.0,3.0,18.0,0.0...|         1|\n",
      "|       0|     3|21.0|    0|    7.8|   0.0|    0.0|(7,[1,2,4],[3.0,2...|         1|\n",
      "|       1|     2|21.0|    0|   10.5|   1.0|    0.0|[1.0,2.0,21.0,0.0...|         1|\n",
      "|       0|     3|28.5|    0| 7.2292|   0.0|    1.0|[0.0,3.0,28.5,0.0...|         1|\n",
      "|       0|     3|22.0|    0| 7.2292|   0.0|    1.0|[0.0,3.0,22.0,0.0...|         1|\n",
      "|       1|     2|29.0|    0|   10.5|   1.0|    0.0|[1.0,2.0,29.0,0.0...|         1|\n",
      "|       0|     3|19.0|    0| 8.1583|   0.0|    0.0|(7,[1,2,4],[3.0,1...|         1|\n",
      "+--------+------+----+-----+-------+------+-------+--------------------+----------+\n",
      "only showing top 20 rows\n",
      "\n"
     ]
    }
   ],
   "source": [
    "clusterdata.filter(clusterdata.prediction==1).show()"
   ]
  },
  {
   "attachments": {},
   "cell_type": "markdown",
   "metadata": {},
   "source": [
    "# Day"
   ]
  },
  {
   "cell_type": "code",
   "execution_count": 110,
   "metadata": {},
   "outputs": [],
   "source": [
    "day_df = read_dataset('day.csv',True)"
   ]
  },
  {
   "cell_type": "code",
   "execution_count": 111,
   "metadata": {},
   "outputs": [
    {
     "name": "stdout",
     "output_type": "stream",
     "text": [
      "root\n",
      " |-- instant: integer (nullable = true)\n",
      " |-- dteday: timestamp (nullable = true)\n",
      " |-- season: integer (nullable = true)\n",
      " |-- yr: integer (nullable = true)\n",
      " |-- mnth: integer (nullable = true)\n",
      " |-- holiday: integer (nullable = true)\n",
      " |-- weekday: integer (nullable = true)\n",
      " |-- workingday: integer (nullable = true)\n",
      " |-- weathersit: integer (nullable = true)\n",
      " |-- temp: double (nullable = true)\n",
      " |-- atemp: double (nullable = true)\n",
      " |-- hum: double (nullable = true)\n",
      " |-- windspeed: double (nullable = true)\n",
      " |-- casual: integer (nullable = true)\n",
      " |-- registered: integer (nullable = true)\n",
      " |-- cnt: integer (nullable = true)\n",
      "\n"
     ]
    }
   ],
   "source": [
    "day_df.printSchema()"
   ]
  },
  {
   "cell_type": "code",
   "execution_count": 112,
   "metadata": {},
   "outputs": [],
   "source": [
    "day_df= day_df.drop('instant', 'dteday','casual','registered')"
   ]
  },
  {
   "cell_type": "code",
   "execution_count": 113,
   "metadata": {},
   "outputs": [
    {
     "name": "stdout",
     "output_type": "stream",
     "text": [
      "+------+---+----+-------+-------+----------+----------+--------+--------+--------+---------+----+\n",
      "|season| yr|mnth|holiday|weekday|workingday|weathersit|    temp|   atemp|     hum|windspeed| cnt|\n",
      "+------+---+----+-------+-------+----------+----------+--------+--------+--------+---------+----+\n",
      "|     1|  0|   1|      0|      6|         0|         2|0.344167|0.363625|0.805833| 0.160446| 985|\n",
      "|     1|  0|   1|      0|      0|         0|         2|0.363478|0.353739|0.696087| 0.248539| 801|\n",
      "|     1|  0|   1|      0|      1|         1|         1|0.196364|0.189405|0.437273| 0.248309|1349|\n",
      "|     1|  0|   1|      0|      2|         1|         1|     0.2|0.212122|0.590435| 0.160296|1562|\n",
      "|     1|  0|   1|      0|      3|         1|         1|0.226957| 0.22927|0.436957|   0.1869|1600|\n",
      "|     1|  0|   1|      0|      4|         1|         1|0.204348|0.233209|0.518261|0.0895652|1606|\n",
      "|     1|  0|   1|      0|      5|         1|         2|0.196522|0.208839|0.498696| 0.168726|1510|\n",
      "|     1|  0|   1|      0|      6|         0|         2|   0.165|0.162254|0.535833| 0.266804| 959|\n",
      "|     1|  0|   1|      0|      0|         0|         1|0.138333|0.116175|0.434167|  0.36195| 822|\n",
      "|     1|  0|   1|      0|      1|         1|         1|0.150833|0.150888|0.482917| 0.223267|1321|\n",
      "|     1|  0|   1|      0|      2|         1|         2|0.169091|0.191464|0.686364| 0.122132|1263|\n",
      "|     1|  0|   1|      0|      3|         1|         1|0.172727|0.160473|0.599545| 0.304627|1162|\n",
      "|     1|  0|   1|      0|      4|         1|         1|   0.165|0.150883|0.470417|    0.301|1406|\n",
      "|     1|  0|   1|      0|      5|         1|         1| 0.16087|0.188413|0.537826| 0.126548|1421|\n",
      "|     1|  0|   1|      0|      6|         0|         2|0.233333|0.248112| 0.49875| 0.157963|1248|\n",
      "|     1|  0|   1|      0|      0|         0|         1|0.231667|0.234217| 0.48375| 0.188433|1204|\n",
      "|     1|  0|   1|      1|      1|         0|         2|0.175833|0.176771|  0.5375| 0.194017|1000|\n",
      "|     1|  0|   1|      0|      2|         1|         2|0.216667|0.232333|0.861667| 0.146775| 683|\n",
      "|     1|  0|   1|      0|      3|         1|         2|0.292174|0.298422|0.741739| 0.208317|1650|\n",
      "|     1|  0|   1|      0|      4|         1|         2|0.261667| 0.25505|0.538333| 0.195904|1927|\n",
      "+------+---+----+-------+-------+----------+----------+--------+--------+--------+---------+----+\n",
      "only showing top 20 rows\n",
      "\n"
     ]
    }
   ],
   "source": [
    "day_df.show()"
   ]
  },
  {
   "cell_type": "code",
   "execution_count": 117,
   "metadata": {},
   "outputs": [
    {
     "name": "stderr",
     "output_type": "stream",
     "text": [
      "/home/dataeng/.local/lib/python3.10/site-packages/pyspark/sql/pandas/conversion.py:114: UserWarning: toPandas attempted Arrow optimization because 'spark.sql.execution.arrow.pyspark.enabled' is set to true; however, failed by the reason below:\n",
      "  PyArrow >= 1.0.0 must be installed; however, it was not found.\n",
      "Attempting non-optimization as 'spark.sql.execution.arrow.pyspark.fallback.enabled' is set to true.\n",
      "  warn(msg)\n"
     ]
    },
    {
     "data": {
      "image/png": "[encoded data removed]",
      "text/plain": [
       "<Figure size 1000x1000 with 2 Axes>"
      ]
     },
     "metadata": {},
     "output_type": "display_data"
    }
   ],
   "source": [
    "corrmat = day_df.toPandas().corr()\n",
    "plt.figure(figsize=(10,10))\n",
    "sns.set(font_scale=1.0)\n",
    "sns.heatmap(corrmat,vmax=.8,square=True,annot=True, fmt='.2f',cmap = 'winter')\n",
    "plt.show()"
   ]
  },
  {
   "cell_type": "code",
   "execution_count": 118,
   "metadata": {},
   "outputs": [],
   "source": [
    "featureCols = day_df.columns.copy()"
   ]
  },
  {
   "cell_type": "code",
   "execution_count": 119,
   "metadata": {},
   "outputs": [],
   "source": [
    "featureCols.remove('cnt')"
   ]
  },
  {
   "cell_type": "code",
   "execution_count": 120,
   "metadata": {},
   "outputs": [
    {
     "data": {
      "text/plain": [
       "['season',\n",
       " 'yr',\n",
       " 'mnth',\n",
       " 'holiday',\n",
       " 'weekday',\n",
       " 'workingday',\n",
       " 'weathersit',\n",
       " 'temp',\n",
       " 'atemp',\n",
       " 'hum',\n",
       " 'windspeed']"
      ]
     },
     "execution_count": 120,
     "metadata": {},
     "output_type": "execute_result"
    }
   ],
   "source": [
    "featureCols"
   ]
  },
  {
   "cell_type": "code",
   "execution_count": 121,
   "metadata": {},
   "outputs": [],
   "source": [
    "assembler = VectorAssembler(inputCols=featureCols,outputCol='features')"
   ]
  },
  {
   "cell_type": "code",
   "execution_count": 122,
   "metadata": {},
   "outputs": [
    {
     "name": "stdout",
     "output_type": "stream",
     "text": [
      "+------+---+----+-------+-------+----------+----------+--------+--------+--------+---------+----+--------------------+\n",
      "|season| yr|mnth|holiday|weekday|workingday|weathersit|    temp|   atemp|     hum|windspeed| cnt|            features|\n",
      "+------+---+----+-------+-------+----------+----------+--------+--------+--------+---------+----+--------------------+\n",
      "|     1|  0|   1|      0|      6|         0|         2|0.344167|0.363625|0.805833| 0.160446| 985|[1.0,0.0,1.0,0.0,...|\n",
      "|     1|  0|   1|      0|      0|         0|         2|0.363478|0.353739|0.696087| 0.248539| 801|[1.0,0.0,1.0,0.0,...|\n",
      "|     1|  0|   1|      0|      1|         1|         1|0.196364|0.189405|0.437273| 0.248309|1349|[1.0,0.0,1.0,0.0,...|\n",
      "|     1|  0|   1|      0|      2|         1|         1|     0.2|0.212122|0.590435| 0.160296|1562|[1.0,0.0,1.0,0.0,...|\n",
      "|     1|  0|   1|      0|      3|         1|         1|0.226957| 0.22927|0.436957|   0.1869|1600|[1.0,0.0,1.0,0.0,...|\n",
      "|     1|  0|   1|      0|      4|         1|         1|0.204348|0.233209|0.518261|0.0895652|1606|[1.0,0.0,1.0,0.0,...|\n",
      "|     1|  0|   1|      0|      5|         1|         2|0.196522|0.208839|0.498696| 0.168726|1510|[1.0,0.0,1.0,0.0,...|\n",
      "|     1|  0|   1|      0|      6|         0|         2|   0.165|0.162254|0.535833| 0.266804| 959|[1.0,0.0,1.0,0.0,...|\n",
      "|     1|  0|   1|      0|      0|         0|         1|0.138333|0.116175|0.434167|  0.36195| 822|[1.0,0.0,1.0,0.0,...|\n",
      "|     1|  0|   1|      0|      1|         1|         1|0.150833|0.150888|0.482917| 0.223267|1321|[1.0,0.0,1.0,0.0,...|\n",
      "|     1|  0|   1|      0|      2|         1|         2|0.169091|0.191464|0.686364| 0.122132|1263|[1.0,0.0,1.0,0.0,...|\n",
      "|     1|  0|   1|      0|      3|         1|         1|0.172727|0.160473|0.599545| 0.304627|1162|[1.0,0.0,1.0,0.0,...|\n",
      "|     1|  0|   1|      0|      4|         1|         1|   0.165|0.150883|0.470417|    0.301|1406|[1.0,0.0,1.0,0.0,...|\n",
      "|     1|  0|   1|      0|      5|         1|         1| 0.16087|0.188413|0.537826| 0.126548|1421|[1.0,0.0,1.0,0.0,...|\n",
      "|     1|  0|   1|      0|      6|         0|         2|0.233333|0.248112| 0.49875| 0.157963|1248|[1.0,0.0,1.0,0.0,...|\n",
      "|     1|  0|   1|      0|      0|         0|         1|0.231667|0.234217| 0.48375| 0.188433|1204|[1.0,0.0,1.0,0.0,...|\n",
      "|     1|  0|   1|      1|      1|         0|         2|0.175833|0.176771|  0.5375| 0.194017|1000|[1.0,0.0,1.0,1.0,...|\n",
      "|     1|  0|   1|      0|      2|         1|         2|0.216667|0.232333|0.861667| 0.146775| 683|[1.0,0.0,1.0,0.0,...|\n",
      "|     1|  0|   1|      0|      3|         1|         2|0.292174|0.298422|0.741739| 0.208317|1650|[1.0,0.0,1.0,0.0,...|\n",
      "|     1|  0|   1|      0|      4|         1|         2|0.261667| 0.25505|0.538333| 0.195904|1927|[1.0,0.0,1.0,0.0,...|\n",
      "+------+---+----+-------+-------+----------+----------+--------+--------+--------+---------+----+--------------------+\n",
      "only showing top 20 rows\n",
      "\n"
     ]
    }
   ],
   "source": [
    "day_df_feat = assembler.transform(day_df)\n",
    "day_df_feat.show()"
   ]
  },
  {
   "cell_type": "code",
   "execution_count": 123,
   "metadata": {},
   "outputs": [],
   "source": [
    "(trainingData,testData) = day_df_feat.randomSplit([0.8,0.2])"
   ]
  },
  {
   "cell_type": "code",
   "execution_count": 124,
   "metadata": {},
   "outputs": [],
   "source": [
    "lr = LinearRegression(maxIter=100,regParam=1.0,elasticNetParam=0.8,labelCol='cnt',featuresCol='features')"
   ]
  },
  {
   "cell_type": "code",
   "execution_count": 125,
   "metadata": {},
   "outputs": [],
   "source": [
    "model = lr.fit(trainingData)"
   ]
  },
  {
   "cell_type": "code",
   "execution_count": 126,
   "metadata": {},
   "outputs": [],
   "source": [
    "predictions = model.transform(testData)"
   ]
  },
  {
   "cell_type": "code",
   "execution_count": 127,
   "metadata": {},
   "outputs": [
    {
     "name": "stdout",
     "output_type": "stream",
     "text": [
      "Test R² score: 0.7764823799116101\n"
     ]
    }
   ],
   "source": [
    "evaluator = RegressionEvaluator(labelCol='cnt',predictionCol='prediction',metricName='r2')\n",
    "r2 = evaluator.evaluate(predictions)\n",
    "print('Test R² score:', r2)"
   ]
  },
  {
   "cell_type": "code",
   "execution_count": 128,
   "metadata": {},
   "outputs": [
    {
     "name": "stdout",
     "output_type": "stream",
     "text": [
      "Test rmse score: 953.1888188056358\n"
     ]
    }
   ],
   "source": [
    "evaluator = RegressionEvaluator(labelCol='cnt',predictionCol='prediction',metricName='rmse')\n",
    "rmse = evaluator.evaluate(predictions)\n",
    "print('Test rmse score:', rmse)"
   ]
  },
  {
   "cell_type": "code",
   "execution_count": 129,
   "metadata": {},
   "outputs": [
    {
     "name": "stderr",
     "output_type": "stream",
     "text": [
      "/home/dataeng/.local/lib/python3.10/site-packages/pyspark/sql/pandas/conversion.py:114: UserWarning: toPandas attempted Arrow optimization because 'spark.sql.execution.arrow.pyspark.enabled' is set to true; however, failed by the reason below:\n",
      "  PyArrow >= 1.0.0 must be installed; however, it was not found.\n",
      "Attempting non-optimization as 'spark.sql.execution.arrow.pyspark.fallback.enabled' is set to true.\n",
      "  warn(msg)\n"
     ]
    }
   ],
   "source": [
    "predict_df = predictions.select(\"cnt\",\"prediction\").toPandas()"
   ]
  },
  {
   "cell_type": "code",
   "execution_count": 130,
   "metadata": {},
   "outputs": [
    {
     "data": {
      "image/png": "[encoded data removed]",
      "text/plain": [
       "<Figure size 1500x600 with 1 Axes>"
      ]
     },
     "metadata": {},
     "output_type": "display_data"
    }
   ],
   "source": [
    "plt.figure(figsize=(15,6))\n",
    "plt.plot(predict_df['cnt'],label='Actual')\n",
    "plt.plot(predict_df['prediction'],label='Predicted')\n",
    "plt.ylabel('Cnt')\n",
    "plt.legend()\n",
    "plt.show()"
   ]
  },
  {
   "cell_type": "code",
   "execution_count": 131,
   "metadata": {},
   "outputs": [],
   "source": [
    "pca = PCA(k=8,inputCol='features',outputCol='pcaFeatures')"
   ]
  },
  {
   "cell_type": "code",
   "execution_count": 132,
   "metadata": {},
   "outputs": [
    {
     "name": "stdout",
     "output_type": "stream",
     "text": [
      "23/02/09 09:56:54 WARN LAPACK: Failed to load implementation from: com.github.fommil.netlib.NativeSystemLAPACK\n",
      "23/02/09 09:56:54 WARN LAPACK: Failed to load implementation from: com.github.fommil.netlib.NativeRefLAPACK\n"
     ]
    }
   ],
   "source": [
    "pcatranform = pca.fit(day_df_feat)"
   ]
  },
  {
   "cell_type": "code",
   "execution_count": 133,
   "metadata": {},
   "outputs": [
    {
     "data": {
      "text/plain": [
       "DenseVector([0.7093, 0.2227, 0.0201, 0.0171, 0.0137, 0.0119, 0.0028, 0.0014])"
      ]
     },
     "execution_count": 133,
     "metadata": {},
     "output_type": "execute_result"
    }
   ],
   "source": [
    "pcatranform.explainedVariance"
   ]
  },
  {
   "cell_type": "code",
   "execution_count": 134,
   "metadata": {},
   "outputs": [
    {
     "name": "stdout",
     "output_type": "stream",
     "text": [
      "+--------------------+\n",
      "|         pcaFeatures|\n",
      "+--------------------+\n",
      "|[-1.2994341055128...|\n",
      "|[-1.2560740466291...|\n",
      "|[-1.2498374390477...|\n",
      "|[-1.2589193779944...|\n",
      "|[-1.2649515947305...|\n",
      "|[-1.2729147964420...|\n",
      "|[-1.2856192710391...|\n",
      "|[-1.2921840792479...|\n",
      "|[-1.2413300547201...|\n",
      "|[-1.2493942400509...|\n",
      "|[-1.2659441069314...|\n",
      "|[-1.2644614872243...|\n",
      "|[-1.2701427734999...|\n",
      "|[-1.2789252699700...|\n",
      "|[-1.2941105474080...|\n",
      "|[-1.2449798149026...|\n",
      "|[-1.2585149268013...|\n",
      "|[-1.2684139693571...|\n",
      "|[-1.2757020639233...|\n",
      "|[-1.2801173209444...|\n",
      "+--------------------+\n",
      "only showing top 20 rows\n",
      "\n"
     ]
    }
   ],
   "source": [
    "pcafeature = pcatranform.transform(day_df_feat).select('pcaFeatures')\n",
    "pcafeature.show()"
   ]
  },
  {
   "cell_type": "code",
   "execution_count": 135,
   "metadata": {},
   "outputs": [
    {
     "data": {
      "image/png": "[encoded data removed]",
      "text/plain": [
       "<Figure size 1500x600 with 1 Axes>"
      ]
     },
     "metadata": {},
     "output_type": "display_data"
    }
   ],
   "source": [
    "plt.figure(figsize=(15,6))\n",
    "plt.plot(pcatranform.explainedVariance)\n",
    "plt.xlabel('Dimension')\n",
    "plt.ylabel('Explain Variance')\n",
    "plt.show()"
   ]
  },
  {
   "cell_type": "code",
   "execution_count": 136,
   "metadata": {},
   "outputs": [],
   "source": [
    "pcafeature = pcafeature.withColumn('row_index',monotonically_increasing_id())\n",
    "day_df_feat = day_df_feat.withColumn('row_index',monotonically_increasing_id())"
   ]
  },
  {
   "cell_type": "code",
   "execution_count": 137,
   "metadata": {},
   "outputs": [
    {
     "name": "stdout",
     "output_type": "stream",
     "text": [
      "+----+--------------------+\n",
      "| cnt|         pcaFeatures|\n",
      "+----+--------------------+\n",
      "| 985|[-1.2994341055128...|\n",
      "| 801|[-1.2560740466291...|\n",
      "|1349|[-1.2498374390477...|\n",
      "|1562|[-1.2589193779944...|\n",
      "|1600|[-1.2649515947305...|\n",
      "|1606|[-1.2729147964420...|\n",
      "|1510|[-1.2856192710391...|\n",
      "| 959|[-1.2921840792479...|\n",
      "| 822|[-1.2413300547201...|\n",
      "|1321|[-1.2493942400509...|\n",
      "|1263|[-1.2659441069314...|\n",
      "|1162|[-1.2644614872243...|\n",
      "|1406|[-1.2701427734999...|\n",
      "|1421|[-1.2789252699700...|\n",
      "|1248|[-1.2941105474080...|\n",
      "|1204|[-1.2449798149026...|\n",
      "|1000|[-1.2585149268013...|\n",
      "| 683|[-1.2684139693571...|\n",
      "|1650|[-1.2757020639233...|\n",
      "|1927|[-1.2801173209444...|\n",
      "+----+--------------------+\n",
      "only showing top 20 rows\n",
      "\n"
     ]
    }
   ],
   "source": [
    "transformedData = pcafeature.join(day_df_feat,on=['row_index']).sort('row_index').select('cnt','pcaFeatures')\n",
    "transformedData.show()"
   ]
  },
  {
   "cell_type": "code",
   "execution_count": 138,
   "metadata": {},
   "outputs": [],
   "source": [
    "(pcatrainingData,pcatestData) = transformedData.randomSplit([0.8,0.2])"
   ]
  },
  {
   "cell_type": "code",
   "execution_count": 139,
   "metadata": {},
   "outputs": [],
   "source": [
    "pcalr = LinearRegression(maxIter=100,regParam=1.0,elasticNetParam=0.8,labelCol='cnt',featuresCol='pcaFeatures')"
   ]
  },
  {
   "cell_type": "code",
   "execution_count": 140,
   "metadata": {},
   "outputs": [],
   "source": [
    "model = pcalr.fit(pcatrainingData)"
   ]
  },
  {
   "cell_type": "code",
   "execution_count": 141,
   "metadata": {},
   "outputs": [],
   "source": [
    "predictions = model.transform(pcatestData)"
   ]
  },
  {
   "cell_type": "code",
   "execution_count": 142,
   "metadata": {},
   "outputs": [
    {
     "name": "stdout",
     "output_type": "stream",
     "text": [
      "Test R² score: 0.7318523887566852\n"
     ]
    }
   ],
   "source": [
    "evaluator = RegressionEvaluator(labelCol='cnt',predictionCol='prediction',metricName='r2')\n",
    "r2 = evaluator.evaluate(predictions)\n",
    "print('Test R² score:', r2)"
   ]
  },
  {
   "cell_type": "code",
   "execution_count": 143,
   "metadata": {},
   "outputs": [
    {
     "name": "stdout",
     "output_type": "stream",
     "text": [
      "Test rmse score: 967.3973824978364\n"
     ]
    }
   ],
   "source": [
    "evaluator = RegressionEvaluator(labelCol='cnt',predictionCol='prediction',metricName='rmse')\n",
    "rmse = evaluator.evaluate(predictions)\n",
    "print('Test rmse score:', rmse)"
   ]
  },
  {
   "attachments": {},
   "cell_type": "markdown",
   "metadata": {},
   "source": [
    "# Movie"
   ]
  },
  {
   "cell_type": "code",
   "execution_count": 145,
   "metadata": {},
   "outputs": [],
   "source": [
    "ratings_df = read_dataset('ratings.csv',True)"
   ]
  },
  {
   "cell_type": "code",
   "execution_count": 146,
   "metadata": {},
   "outputs": [
    {
     "name": "stdout",
     "output_type": "stream",
     "text": [
      "+------+-------+------+----------+\n",
      "|userId|movieId|rating| timestamp|\n",
      "+------+-------+------+----------+\n",
      "|     1|     31|   2.5|1260759144|\n",
      "|     1|   1029|   3.0|1260759179|\n",
      "|     1|   1061|   3.0|1260759182|\n",
      "|     1|   1129|   2.0|1260759185|\n",
      "|     1|   1172|   4.0|1260759205|\n",
      "|     1|   1263|   2.0|1260759151|\n",
      "|     1|   1287|   2.0|1260759187|\n",
      "|     1|   1293|   2.0|1260759148|\n",
      "|     1|   1339|   3.5|1260759125|\n",
      "|     1|   1343|   2.0|1260759131|\n",
      "|     1|   1371|   2.5|1260759135|\n",
      "|     1|   1405|   1.0|1260759203|\n",
      "|     1|   1953|   4.0|1260759191|\n",
      "|     1|   2105|   4.0|1260759139|\n",
      "|     1|   2150|   3.0|1260759194|\n",
      "|     1|   2193|   2.0|1260759198|\n",
      "|     1|   2294|   2.0|1260759108|\n",
      "|     1|   2455|   2.5|1260759113|\n",
      "|     1|   2968|   1.0|1260759200|\n",
      "|     1|   3671|   3.0|1260759117|\n",
      "+------+-------+------+----------+\n",
      "only showing top 20 rows\n",
      "\n"
     ]
    }
   ],
   "source": [
    "ratings_df.show()"
   ]
  },
  {
   "cell_type": "code",
   "execution_count": 147,
   "metadata": {},
   "outputs": [
    {
     "name": "stdout",
     "output_type": "stream",
     "text": [
      "root\n",
      " |-- userId: integer (nullable = true)\n",
      " |-- movieId: integer (nullable = true)\n",
      " |-- rating: double (nullable = true)\n",
      " |-- timestamp: integer (nullable = true)\n",
      "\n"
     ]
    }
   ],
   "source": [
    "ratings_df.printSchema()"
   ]
  },
  {
   "cell_type": "code",
   "execution_count": 148,
   "metadata": {},
   "outputs": [],
   "source": [
    "ratings_df = ratings_df.drop('timestamp')"
   ]
  },
  {
   "cell_type": "code",
   "execution_count": 149,
   "metadata": {},
   "outputs": [
    {
     "name": "stderr",
     "output_type": "stream",
     "text": [
      "/home/dataeng/.local/lib/python3.10/site-packages/pyspark/sql/pandas/conversion.py:114: UserWarning: toPandas attempted Arrow optimization because 'spark.sql.execution.arrow.pyspark.enabled' is set to true; however, failed by the reason below:\n",
      "  PyArrow >= 1.0.0 must be installed; however, it was not found.\n",
      "Attempting non-optimization as 'spark.sql.execution.arrow.pyspark.fallback.enabled' is set to true.\n",
      "  warn(msg)\n"
     ]
    },
    {
     "data": {
      "text/html": [
       "<div>\n",
       "<style scoped>\n",
       "    .dataframe tbody tr th:only-of-type {\n",
       "        vertical-align: middle;\n",
       "    }\n",
       "\n",
       "    .dataframe tbody tr th {\n",
       "        vertical-align: top;\n",
       "    }\n",
       "\n",
       "    .dataframe thead th {\n",
       "        text-align: right;\n",
       "    }\n",
       "</style>\n",
       "<table border=\"1\" class=\"dataframe\">\n",
       "  <thead>\n",
       "    <tr style=\"text-align: right;\">\n",
       "      <th></th>\n",
       "      <th>rating</th>\n",
       "    </tr>\n",
       "  </thead>\n",
       "  <tbody>\n",
       "    <tr>\n",
       "      <th>count</th>\n",
       "      <td>100004.000000</td>\n",
       "    </tr>\n",
       "    <tr>\n",
       "      <th>mean</th>\n",
       "      <td>3.543608</td>\n",
       "    </tr>\n",
       "    <tr>\n",
       "      <th>std</th>\n",
       "      <td>1.058064</td>\n",
       "    </tr>\n",
       "    <tr>\n",
       "      <th>min</th>\n",
       "      <td>0.500000</td>\n",
       "    </tr>\n",
       "    <tr>\n",
       "      <th>25%</th>\n",
       "      <td>3.000000</td>\n",
       "    </tr>\n",
       "    <tr>\n",
       "      <th>50%</th>\n",
       "      <td>4.000000</td>\n",
       "    </tr>\n",
       "    <tr>\n",
       "      <th>75%</th>\n",
       "      <td>4.000000</td>\n",
       "    </tr>\n",
       "    <tr>\n",
       "      <th>max</th>\n",
       "      <td>5.000000</td>\n",
       "    </tr>\n",
       "  </tbody>\n",
       "</table>\n",
       "</div>"
      ],
      "text/plain": [
       "              rating\n",
       "count  100004.000000\n",
       "mean        3.543608\n",
       "std         1.058064\n",
       "min         0.500000\n",
       "25%         3.000000\n",
       "50%         4.000000\n",
       "75%         4.000000\n",
       "max         5.000000"
      ]
     },
     "execution_count": 149,
     "metadata": {},
     "output_type": "execute_result"
    }
   ],
   "source": [
    "ratings_df.select('rating').toPandas().describe()"
   ]
  },
  {
   "cell_type": "code",
   "execution_count": 150,
   "metadata": {},
   "outputs": [],
   "source": [
    "(trainingData,testData) = ratings_df.randomSplit([0.8,0.2])"
   ]
  },
  {
   "cell_type": "code",
   "execution_count": 152,
   "metadata": {},
   "outputs": [],
   "source": [
    "als = ALS(maxIter=5,regParam=0.1,userCol='userId',itemCol='movieId',ratingCol='rating',coldStartStrategy='drop')"
   ]
  },
  {
   "cell_type": "code",
   "execution_count": 153,
   "metadata": {},
   "outputs": [],
   "source": [
    "model = als.fit(trainingData)"
   ]
  },
  {
   "cell_type": "code",
   "execution_count": 154,
   "metadata": {},
   "outputs": [
    {
     "name": "stdout",
     "output_type": "stream",
     "text": [
      "+------+-------+------+----------+\n",
      "|userId|movieId|rating|prediction|\n",
      "+------+-------+------+----------+\n",
      "|   148|     29|   3.5|  4.121434|\n",
      "|   148|     32|   4.0|   4.15033|\n",
      "|   148|     40|   4.5| 3.6842566|\n",
      "|   148|    934|   3.5| 4.0286508|\n",
      "|   148|   1136|   4.5|  4.682229|\n",
      "|   148|   1172|   5.0|  4.427302|\n",
      "|   148|   1252|   5.0|  4.454056|\n",
      "|   148|   1261|   3.0| 4.1708927|\n",
      "|   148|   1394|   4.5|  4.170761|\n",
      "|   148|   1449|   4.5|  4.424697|\n",
      "|   148|   1584|   3.5|  3.892128|\n",
      "|   148|   1625|   4.0| 3.9431486|\n",
      "|   148|   1690|   3.0| 3.1088336|\n",
      "|   148|   1711|   4.0| 3.3545818|\n",
      "|   148|   1779|   3.5| 3.1682568|\n",
      "|   148|   2046|   4.5| 3.8010805|\n",
      "|   148|   2174|   4.0| 3.8675487|\n",
      "|   148|   2571|   4.5| 4.4156723|\n",
      "|   148|   2706|   1.0| 3.5682223|\n",
      "|   148|   3175|   4.0| 3.9647756|\n",
      "+------+-------+------+----------+\n",
      "only showing top 20 rows\n",
      "\n"
     ]
    }
   ],
   "source": [
    "predictions = model.transform(testData)\n",
    "predictions.show()"
   ]
  },
  {
   "cell_type": "code",
   "execution_count": 155,
   "metadata": {},
   "outputs": [
    {
     "name": "stderr",
     "output_type": "stream",
     "text": [
      "/home/dataeng/.local/lib/python3.10/site-packages/pyspark/sql/pandas/conversion.py:114: UserWarning: toPandas attempted Arrow optimization because 'spark.sql.execution.arrow.pyspark.enabled' is set to true; however, failed by the reason below:\n",
      "  PyArrow >= 1.0.0 must be installed; however, it was not found.\n",
      "Attempting non-optimization as 'spark.sql.execution.arrow.pyspark.fallback.enabled' is set to true.\n",
      "  warn(msg)\n"
     ]
    },
    {
     "data": {
      "text/html": [
       "<div>\n",
       "<style scoped>\n",
       "    .dataframe tbody tr th:only-of-type {\n",
       "        vertical-align: middle;\n",
       "    }\n",
       "\n",
       "    .dataframe tbody tr th {\n",
       "        vertical-align: top;\n",
       "    }\n",
       "\n",
       "    .dataframe thead th {\n",
       "        text-align: right;\n",
       "    }\n",
       "</style>\n",
       "<table border=\"1\" class=\"dataframe\">\n",
       "  <thead>\n",
       "    <tr style=\"text-align: right;\">\n",
       "      <th></th>\n",
       "      <th>rating</th>\n",
       "      <th>prediction</th>\n",
       "    </tr>\n",
       "  </thead>\n",
       "  <tbody>\n",
       "    <tr>\n",
       "      <th>count</th>\n",
       "      <td>19336.000000</td>\n",
       "      <td>19336.000000</td>\n",
       "    </tr>\n",
       "    <tr>\n",
       "      <th>mean</th>\n",
       "      <td>3.562267</td>\n",
       "      <td>3.389869</td>\n",
       "    </tr>\n",
       "    <tr>\n",
       "      <th>std</th>\n",
       "      <td>1.044387</td>\n",
       "      <td>0.752836</td>\n",
       "    </tr>\n",
       "    <tr>\n",
       "      <th>min</th>\n",
       "      <td>0.500000</td>\n",
       "      <td>0.038826</td>\n",
       "    </tr>\n",
       "    <tr>\n",
       "      <th>25%</th>\n",
       "      <td>3.000000</td>\n",
       "      <td>2.947011</td>\n",
       "    </tr>\n",
       "    <tr>\n",
       "      <th>50%</th>\n",
       "      <td>4.000000</td>\n",
       "      <td>3.473314</td>\n",
       "    </tr>\n",
       "    <tr>\n",
       "      <th>75%</th>\n",
       "      <td>4.000000</td>\n",
       "      <td>3.919980</td>\n",
       "    </tr>\n",
       "    <tr>\n",
       "      <th>max</th>\n",
       "      <td>5.000000</td>\n",
       "      <td>5.636985</td>\n",
       "    </tr>\n",
       "  </tbody>\n",
       "</table>\n",
       "</div>"
      ],
      "text/plain": [
       "             rating    prediction\n",
       "count  19336.000000  19336.000000\n",
       "mean       3.562267      3.389869\n",
       "std        1.044387      0.752836\n",
       "min        0.500000      0.038826\n",
       "25%        3.000000      2.947011\n",
       "50%        4.000000      3.473314\n",
       "75%        4.000000      3.919980\n",
       "max        5.000000      5.636985"
      ]
     },
     "execution_count": 155,
     "metadata": {},
     "output_type": "execute_result"
    }
   ],
   "source": [
    "predictions.select('rating','prediction').toPandas().describe()"
   ]
  },
  {
   "cell_type": "code",
   "execution_count": 156,
   "metadata": {},
   "outputs": [
    {
     "data": {
      "text/plain": [
       "0.9171292702495608"
      ]
     },
     "execution_count": 156,
     "metadata": {},
     "output_type": "execute_result"
    }
   ],
   "source": [
    "evaluator = RegressionEvaluator(metricName='rmse',labelCol='rating',predictionCol='prediction')\n",
    "rmse = evaluator.evaluate(predictions)\n",
    "rmse"
   ]
  },
  {
   "cell_type": "code",
   "execution_count": 157,
   "metadata": {},
   "outputs": [
    {
     "name": "stderr",
     "output_type": "stream",
     "text": [
      "[Stage 1825:==============================>                     (58 + 25) / 100]\r"
     ]
    },
    {
     "name": "stdout",
     "output_type": "stream",
     "text": [
      "+------+--------------------+\n",
      "|userId|     recommendations|\n",
      "+------+--------------------+\n",
      "|     1|[{53123, 4.135737...|\n",
      "|     2|[{6413, 4.9434114...|\n",
      "|     3|[{67504, 4.93946}...|\n",
      "|     4|[{67504, 6.34247}...|\n",
      "|     5|[{59684, 5.084768...|\n",
      "|     6|[{940, 5.122101},...|\n",
      "|     7|[{67504, 5.282695...|\n",
      "|     8|[{67504, 5.040885...|\n",
      "|     9|[{67504, 5.798464...|\n",
      "|    10|[{67504, 5.337259...|\n",
      "|    11|[{8607, 5.5227685...|\n",
      "|    12|[{3879, 4.972213}...|\n",
      "|    13|[{67504, 4.882725...|\n",
      "|    14|[{5765, 4.977227}...|\n",
      "|    15|[{4731, 5.0522113...|\n",
      "|    16|[{40412, 5.537408...|\n",
      "|    17|[{2066, 5.1760716...|\n",
      "|    18|[{4967, 4.9207067...|\n",
      "|    19|[{67504, 5.506343...|\n",
      "|    20|[{3914, 5.283403}...|\n",
      "+------+--------------------+\n",
      "only showing top 20 rows\n",
      "\n"
     ]
    },
    {
     "name": "stderr",
     "output_type": "stream",
     "text": [
      "                                                                                \r"
     ]
    }
   ],
   "source": [
    "userRecsAll = model.recommendForAllUsers(3)\n",
    "userRecsAll.show()"
   ]
  },
  {
   "cell_type": "code",
   "execution_count": 158,
   "metadata": {},
   "outputs": [
    {
     "name": "stderr",
     "output_type": "stream",
     "text": [
      "[Stage 1854:========================================>           (77 + 23) / 100]\r"
     ]
    },
    {
     "name": "stdout",
     "output_type": "stream",
     "text": [
      "+-------+--------------------+\n",
      "|movieId|     recommendations|\n",
      "+-------+--------------------+\n",
      "|     26|[{113, 5.2716236}...|\n",
      "|     27|[{46, 4.117227}, ...|\n",
      "|     28|[{113, 5.381719},...|\n",
      "|     31|[{46, 4.4083624},...|\n",
      "|     34|[{113, 5.3058653}...|\n",
      "|     44|[{113, 3.9722939}...|\n",
      "|     53|[{517, 5.6639814}...|\n",
      "|     65|[{477, 4.3593903}...|\n",
      "|     76|[{51, 4.4637713},...|\n",
      "|     78|[{156, 4.0558076}...|\n",
      "|     81|[{348, 4.658925},...|\n",
      "|     85|[{70, 5.29083}, {...|\n",
      "|    101|[{181, 4.9536}, {...|\n",
      "|    103|[{113, 5.449358},...|\n",
      "|    108|[{564, 4.0357323}...|\n",
      "|    126|[{366, 4.3972406}...|\n",
      "|    137|[{564, 1.0089331}...|\n",
      "|    148|[{153, 4.2178574}...|\n",
      "|    155|[{46, 5.4605303},...|\n",
      "|    159|[{46, 5.2889934},...|\n",
      "+-------+--------------------+\n",
      "only showing top 20 rows\n",
      "\n"
     ]
    },
    {
     "name": "stderr",
     "output_type": "stream",
     "text": [
      "                                                                                \r"
     ]
    }
   ],
   "source": [
    "movieRecsAll = model.recommendForAllItems(3)\n",
    "movieRecsAll.show()"
   ]
  },
  {
   "cell_type": "code",
   "execution_count": 161,
   "metadata": {},
   "outputs": [
    {
     "name": "stdout",
     "output_type": "stream",
     "text": [
      "+------+\n",
      "|userId|\n",
      "+------+\n",
      "|   148|\n",
      "|   463|\n",
      "|   267|\n",
      "+------+\n",
      "\n"
     ]
    }
   ],
   "source": [
    "userList = [148,463,267]\n",
    "usersDF = spark.createDataFrame(userList,IntegerType()).toDF('userId')\n",
    "usersDF.show()"
   ]
  },
  {
   "cell_type": "code",
   "execution_count": 162,
   "metadata": {},
   "outputs": [
    {
     "name": "stdout",
     "output_type": "stream",
     "text": [
      "+------+--------------------+\n",
      "|userId|     recommendations|\n",
      "+------+--------------------+\n",
      "|   148|[{83411, 5.619459...|\n",
      "|   463|[{83411, 5.212364...|\n",
      "|   267|[{65188, 5.306656...|\n",
      "+------+--------------------+\n",
      "\n"
     ]
    }
   ],
   "source": [
    "userRecs = model.recommendForUserSubset(usersDF,5)\n",
    "userRecs.show()"
   ]
  },
  {
   "cell_type": "code",
   "execution_count": 163,
   "metadata": {},
   "outputs": [
    {
     "name": "stdout",
     "output_type": "stream",
     "text": [
      "+--------------------+\n",
      "|     recommendations|\n",
      "+--------------------+\n",
      "|[{83411, 5.619459...|\n",
      "+--------------------+\n",
      "\n"
     ]
    }
   ],
   "source": [
    "userMovieList = userRecs.filter(userRecs.userId == 148).select('recommendations')\n",
    "userMovieList.show()"
   ]
  },
  {
   "cell_type": "code",
   "execution_count": 164,
   "metadata": {},
   "outputs": [
    {
     "data": {
      "text/plain": [
       "[Row(movieId=83411, rating=5.61945915222168),\n",
       " Row(movieId=67504, rating=5.61945915222168),\n",
       " Row(movieId=83359, rating=5.61945915222168),\n",
       " Row(movieId=54328, rating=5.147768497467041),\n",
       " Row(movieId=6918, rating=5.132166862487793)]"
      ]
     },
     "execution_count": 164,
     "metadata": {},
     "output_type": "execute_result"
    }
   ],
   "source": [
    "movieList = userMovieList.collect()[0].recommendations\n",
    "movieList"
   ]
  },
  {
   "cell_type": "code",
   "execution_count": 165,
   "metadata": {},
   "outputs": [
    {
     "name": "stdout",
     "output_type": "stream",
     "text": [
      "+-------+-----------------+\n",
      "|movieId|           rating|\n",
      "+-------+-----------------+\n",
      "|  83411| 5.61945915222168|\n",
      "|  67504| 5.61945915222168|\n",
      "|  83359| 5.61945915222168|\n",
      "|  54328|5.147768497467041|\n",
      "|   6918|5.132166862487793|\n",
      "+-------+-----------------+\n",
      "\n"
     ]
    }
   ],
   "source": [
    "moviesDF = spark.createDataFrame(movieList)\n",
    "moviesDF.show()"
   ]
  },
  {
   "cell_type": "code",
   "execution_count": 166,
   "metadata": {},
   "outputs": [],
   "source": [
    "movie_df = read_dataset('movies.csv',True)"
   ]
  },
  {
   "cell_type": "code",
   "execution_count": 167,
   "metadata": {},
   "outputs": [
    {
     "name": "stdout",
     "output_type": "stream",
     "text": [
      "+--------------------+-----------+-----------------+\n",
      "|               title|     genres|           rating|\n",
      "+--------------------+-----------+-----------------+\n",
      "|         Cops (1922)|     Comedy| 5.61945915222168|\n",
      "|Land of Silence a...|Documentary| 5.61945915222168|\n",
      "|Play House, The (...|     Comedy| 5.61945915222168|\n",
      "|My Best Friend (M...|     Comedy|5.147768497467041|\n",
      "|Unvanquished, The...|      Drama|5.132166862487793|\n",
      "+--------------------+-----------+-----------------+\n",
      "\n"
     ]
    }
   ],
   "source": [
    "recommmendedMovies = movie_df.join(moviesDF, on=['movieID']).orderBy('rating',ascending=False).select('title','genres','rating')\n",
    "recommmendedMovies.show()"
   ]
  },
  {
   "cell_type": "code",
   "execution_count": 168,
   "metadata": {},
   "outputs": [],
   "source": [
    "def getRecommendationsForUser(userId,numRecs):\n",
    "  usersDF = spark.createDataFrame([userId],IntegerType()).toDF('userId')\n",
    "  userRecs = model.recommendForUserSubset(usersDF,numRecs)\n",
    "  movieList = userMovieList.collect()[0].recommendations\n",
    "  moviesDF = spark.createDataFrame(movieList)\n",
    "  recommmendedMovies = movie_df.join(moviesDF, on=['movieID']).orderBy('rating',ascending=False).select('title','genres','rating')\n",
    "  return recommmendedMovies"
   ]
  },
  {
   "cell_type": "code",
   "execution_count": 169,
   "metadata": {},
   "outputs": [
    {
     "name": "stdout",
     "output_type": "stream",
     "text": [
      "+--------------------+-----------+-----------------+\n",
      "|               title|     genres|           rating|\n",
      "+--------------------+-----------+-----------------+\n",
      "|Play House, The (...|     Comedy| 5.61945915222168|\n",
      "|Land of Silence a...|Documentary| 5.61945915222168|\n",
      "|         Cops (1922)|     Comedy| 5.61945915222168|\n",
      "|My Best Friend (M...|     Comedy|5.147768497467041|\n",
      "|Unvanquished, The...|      Drama|5.132166862487793|\n",
      "+--------------------+-----------+-----------------+\n",
      "\n"
     ]
    }
   ],
   "source": [
    "getRecommendationsForUser(4,2).show()"
   ]
  }
 ],
 "metadata": {
  "kernelspec": {
   "display_name": "Python 3",
   "language": "python",
   "name": "python3"
  },
  "language_info": {
   "codemirror_mode": {
    "name": "ipython",
    "version": 3
   },
   "file_extension": ".py",
   "mimetype": "text/x-python",
   "name": "python",
   "nbconvert_exporter": "python",
   "pygments_lexer": "ipython3",
   "version": "3.10.6"
  },
  "orig_nbformat": 4,
  "vscode": {
   "interpreter": {
    "hash": "916dbcbb3f70747c44a77c7bcd40155683ae19c65e1c03b4aa3499c5328201f1"
   }
  }
 },
 "nbformat": 4,
 "nbformat_minor": 2
}
